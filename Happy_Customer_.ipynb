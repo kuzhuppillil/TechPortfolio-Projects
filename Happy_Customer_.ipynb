{
  "cells": [
    {
      "cell_type": "markdown",
      "metadata": {
        "id": "view-in-github",
        "colab_type": "text"
      },
      "source": [
        "<a href=\"https://colab.research.google.com/github/kuzhuppillil/TechPortfolio-Projects/blob/main/Happy_Customer_.ipynb\" target=\"_parent\"><img src=\"https://colab.research.google.com/assets/colab-badge.svg\" alt=\"Open In Colab\"/></a>"
      ]
    },
    {
      "cell_type": "code",
      "execution_count": 117,
      "metadata": {
        "id": "7507b40f"
      },
      "outputs": [],
      "source": [
        "import pandas as pd\n",
        "import numpy as np\n",
        "import matplotlib.pyplot as plt\n",
        "import seaborn as sns\n",
        "\n",
        "from sklearn.model_selection import train_test_split\n",
        "from sklearn.linear_model import LogisticRegression\n",
        "from sklearn.neighbors import KNeighborsClassifier\n",
        "from sklearn.tree import DecisionTreeClassifier\n",
        "from sklearn.ensemble import RandomForestClassifier\n",
        "from sklearn.naive_bayes import GaussianNB\n",
        "from xgboost import XGBClassifier\n",
        "from lightgbm import LGBMClassifier\n",
        "from sklearn.svm import SVC\n",
        "\n",
        "from sklearn.metrics import classification_report\n",
        "#from sklearn.preprocessing import StandardScaler\n",
        "from sklearn.metrics import accuracy_score\n",
        "from sklearn.metrics import f1_score\n",
        "from sklearn.metrics import confusion_matrix\n",
        "\n",
        "from sklearn.model_selection import KFold\n",
        "from sklearn.model_selection import StratifiedKFold\n",
        "from sklearn.model_selection import cross_val_score\n",
        "\n",
        "import warnings\n",
        "warnings.filterwarnings(\"ignore\")\n",
        "\n",
        "from sklearn.model_selection import GridSearchCV\n",
        "from functools import partial\n",
        "from hyperopt import hp, fmin, tpe, Trials\n",
        "from hyperopt.pyll.base import scope\n",
        "\n",
        "\n",
        "import optuna\n",
        "\n",
        "#from sklearn.feature_selection import VarianceThreshold"
      ],
      "id": "7507b40f"
    },
    {
      "cell_type": "code",
      "source": [
        "!pip install optuna"
      ],
      "metadata": {
        "colab": {
          "base_uri": "https://localhost:8080/"
        },
        "id": "dOc0WlAgNiTG",
        "outputId": "c3accea4-936d-4326-b585-d0421e7aade1"
      },
      "id": "dOc0WlAgNiTG",
      "execution_count": 118,
      "outputs": [
        {
          "output_type": "stream",
          "name": "stdout",
          "text": [
            "Requirement already satisfied: optuna in /usr/local/lib/python3.10/dist-packages (3.3.0)\n",
            "Requirement already satisfied: alembic>=1.5.0 in /usr/local/lib/python3.10/dist-packages (from optuna) (1.11.3)\n",
            "Requirement already satisfied: cmaes>=0.10.0 in /usr/local/lib/python3.10/dist-packages (from optuna) (0.10.0)\n",
            "Requirement already satisfied: colorlog in /usr/local/lib/python3.10/dist-packages (from optuna) (6.7.0)\n",
            "Requirement already satisfied: numpy in /usr/local/lib/python3.10/dist-packages (from optuna) (1.23.5)\n",
            "Requirement already satisfied: packaging>=20.0 in /usr/local/lib/python3.10/dist-packages (from optuna) (23.1)\n",
            "Requirement already satisfied: sqlalchemy>=1.3.0 in /usr/local/lib/python3.10/dist-packages (from optuna) (2.0.20)\n",
            "Requirement already satisfied: tqdm in /usr/local/lib/python3.10/dist-packages (from optuna) (4.66.1)\n",
            "Requirement already satisfied: PyYAML in /usr/local/lib/python3.10/dist-packages (from optuna) (6.0.1)\n",
            "Requirement already satisfied: Mako in /usr/local/lib/python3.10/dist-packages (from alembic>=1.5.0->optuna) (1.2.4)\n",
            "Requirement already satisfied: typing-extensions>=4 in /usr/local/lib/python3.10/dist-packages (from alembic>=1.5.0->optuna) (4.7.1)\n",
            "Requirement already satisfied: greenlet!=0.4.17 in /usr/local/lib/python3.10/dist-packages (from sqlalchemy>=1.3.0->optuna) (2.0.2)\n",
            "Requirement already satisfied: MarkupSafe>=0.9.2 in /usr/local/lib/python3.10/dist-packages (from Mako->alembic>=1.5.0->optuna) (2.1.3)\n"
          ]
        }
      ]
    },
    {
      "cell_type": "code",
      "source": [
        "from google.colab import drive\n",
        "drive.mount('/content/drive')"
      ],
      "metadata": {
        "colab": {
          "base_uri": "https://localhost:8080/"
        },
        "id": "J7-2PpmwndnS",
        "outputId": "ed09129a-0536-496f-940a-549ed763b692"
      },
      "id": "J7-2PpmwndnS",
      "execution_count": 119,
      "outputs": [
        {
          "output_type": "stream",
          "name": "stdout",
          "text": [
            "Drive already mounted at /content/drive; to attempt to forcibly remount, call drive.mount(\"/content/drive\", force_remount=True).\n"
          ]
        }
      ]
    },
    {
      "cell_type": "code",
      "execution_count": 121,
      "metadata": {
        "colab": {
          "base_uri": "https://localhost:8080/",
          "height": 300
        },
        "id": "45469d3c",
        "outputId": "26bd1c65-ec9d-45a5-aa8e-3832890c5582"
      },
      "outputs": [
        {
          "output_type": "execute_result",
          "data": {
            "text/plain": [
              "                Y          X1          X2          X3          X4          X5  \\\n",
              "count  126.000000  126.000000  126.000000  126.000000  126.000000  126.000000   \n",
              "mean     0.547619    4.333333    2.531746    3.309524    3.746032    3.650794   \n",
              "std      0.499714    0.800000    1.114892    1.023440    0.875776    1.147641   \n",
              "min      0.000000    1.000000    1.000000    1.000000    1.000000    1.000000   \n",
              "25%      0.000000    4.000000    2.000000    3.000000    3.000000    3.000000   \n",
              "50%      1.000000    5.000000    3.000000    3.000000    4.000000    4.000000   \n",
              "75%      1.000000    5.000000    3.000000    4.000000    4.000000    4.000000   \n",
              "max      1.000000    5.000000    5.000000    5.000000    5.000000    5.000000   \n",
              "\n",
              "               X6  \n",
              "count  126.000000  \n",
              "mean     4.253968  \n",
              "std      0.809311  \n",
              "min      1.000000  \n",
              "25%      4.000000  \n",
              "50%      4.000000  \n",
              "75%      5.000000  \n",
              "max      5.000000  "
            ],
            "text/html": [
              "\n",
              "  <div id=\"df-bc803904-fb69-42b3-862b-8c9ce3af9802\" class=\"colab-df-container\">\n",
              "    <div>\n",
              "<style scoped>\n",
              "    .dataframe tbody tr th:only-of-type {\n",
              "        vertical-align: middle;\n",
              "    }\n",
              "\n",
              "    .dataframe tbody tr th {\n",
              "        vertical-align: top;\n",
              "    }\n",
              "\n",
              "    .dataframe thead th {\n",
              "        text-align: right;\n",
              "    }\n",
              "</style>\n",
              "<table border=\"1\" class=\"dataframe\">\n",
              "  <thead>\n",
              "    <tr style=\"text-align: right;\">\n",
              "      <th></th>\n",
              "      <th>Y</th>\n",
              "      <th>X1</th>\n",
              "      <th>X2</th>\n",
              "      <th>X3</th>\n",
              "      <th>X4</th>\n",
              "      <th>X5</th>\n",
              "      <th>X6</th>\n",
              "    </tr>\n",
              "  </thead>\n",
              "  <tbody>\n",
              "    <tr>\n",
              "      <th>count</th>\n",
              "      <td>126.000000</td>\n",
              "      <td>126.000000</td>\n",
              "      <td>126.000000</td>\n",
              "      <td>126.000000</td>\n",
              "      <td>126.000000</td>\n",
              "      <td>126.000000</td>\n",
              "      <td>126.000000</td>\n",
              "    </tr>\n",
              "    <tr>\n",
              "      <th>mean</th>\n",
              "      <td>0.547619</td>\n",
              "      <td>4.333333</td>\n",
              "      <td>2.531746</td>\n",
              "      <td>3.309524</td>\n",
              "      <td>3.746032</td>\n",
              "      <td>3.650794</td>\n",
              "      <td>4.253968</td>\n",
              "    </tr>\n",
              "    <tr>\n",
              "      <th>std</th>\n",
              "      <td>0.499714</td>\n",
              "      <td>0.800000</td>\n",
              "      <td>1.114892</td>\n",
              "      <td>1.023440</td>\n",
              "      <td>0.875776</td>\n",
              "      <td>1.147641</td>\n",
              "      <td>0.809311</td>\n",
              "    </tr>\n",
              "    <tr>\n",
              "      <th>min</th>\n",
              "      <td>0.000000</td>\n",
              "      <td>1.000000</td>\n",
              "      <td>1.000000</td>\n",
              "      <td>1.000000</td>\n",
              "      <td>1.000000</td>\n",
              "      <td>1.000000</td>\n",
              "      <td>1.000000</td>\n",
              "    </tr>\n",
              "    <tr>\n",
              "      <th>25%</th>\n",
              "      <td>0.000000</td>\n",
              "      <td>4.000000</td>\n",
              "      <td>2.000000</td>\n",
              "      <td>3.000000</td>\n",
              "      <td>3.000000</td>\n",
              "      <td>3.000000</td>\n",
              "      <td>4.000000</td>\n",
              "    </tr>\n",
              "    <tr>\n",
              "      <th>50%</th>\n",
              "      <td>1.000000</td>\n",
              "      <td>5.000000</td>\n",
              "      <td>3.000000</td>\n",
              "      <td>3.000000</td>\n",
              "      <td>4.000000</td>\n",
              "      <td>4.000000</td>\n",
              "      <td>4.000000</td>\n",
              "    </tr>\n",
              "    <tr>\n",
              "      <th>75%</th>\n",
              "      <td>1.000000</td>\n",
              "      <td>5.000000</td>\n",
              "      <td>3.000000</td>\n",
              "      <td>4.000000</td>\n",
              "      <td>4.000000</td>\n",
              "      <td>4.000000</td>\n",
              "      <td>5.000000</td>\n",
              "    </tr>\n",
              "    <tr>\n",
              "      <th>max</th>\n",
              "      <td>1.000000</td>\n",
              "      <td>5.000000</td>\n",
              "      <td>5.000000</td>\n",
              "      <td>5.000000</td>\n",
              "      <td>5.000000</td>\n",
              "      <td>5.000000</td>\n",
              "      <td>5.000000</td>\n",
              "    </tr>\n",
              "  </tbody>\n",
              "</table>\n",
              "</div>\n",
              "    <div class=\"colab-df-buttons\">\n",
              "\n",
              "  <div class=\"colab-df-container\">\n",
              "    <button class=\"colab-df-convert\" onclick=\"convertToInteractive('df-bc803904-fb69-42b3-862b-8c9ce3af9802')\"\n",
              "            title=\"Convert this dataframe to an interactive table.\"\n",
              "            style=\"display:none;\">\n",
              "\n",
              "  <svg xmlns=\"http://www.w3.org/2000/svg\" height=\"24px\" viewBox=\"0 -960 960 960\">\n",
              "    <path d=\"M120-120v-720h720v720H120Zm60-500h600v-160H180v160Zm220 220h160v-160H400v160Zm0 220h160v-160H400v160ZM180-400h160v-160H180v160Zm440 0h160v-160H620v160ZM180-180h160v-160H180v160Zm440 0h160v-160H620v160Z\"/>\n",
              "  </svg>\n",
              "    </button>\n",
              "\n",
              "  <style>\n",
              "    .colab-df-container {\n",
              "      display:flex;\n",
              "      gap: 12px;\n",
              "    }\n",
              "\n",
              "    .colab-df-convert {\n",
              "      background-color: #E8F0FE;\n",
              "      border: none;\n",
              "      border-radius: 50%;\n",
              "      cursor: pointer;\n",
              "      display: none;\n",
              "      fill: #1967D2;\n",
              "      height: 32px;\n",
              "      padding: 0 0 0 0;\n",
              "      width: 32px;\n",
              "    }\n",
              "\n",
              "    .colab-df-convert:hover {\n",
              "      background-color: #E2EBFA;\n",
              "      box-shadow: 0px 1px 2px rgba(60, 64, 67, 0.3), 0px 1px 3px 1px rgba(60, 64, 67, 0.15);\n",
              "      fill: #174EA6;\n",
              "    }\n",
              "\n",
              "    .colab-df-buttons div {\n",
              "      margin-bottom: 4px;\n",
              "    }\n",
              "\n",
              "    [theme=dark] .colab-df-convert {\n",
              "      background-color: #3B4455;\n",
              "      fill: #D2E3FC;\n",
              "    }\n",
              "\n",
              "    [theme=dark] .colab-df-convert:hover {\n",
              "      background-color: #434B5C;\n",
              "      box-shadow: 0px 1px 3px 1px rgba(0, 0, 0, 0.15);\n",
              "      filter: drop-shadow(0px 1px 2px rgba(0, 0, 0, 0.3));\n",
              "      fill: #FFFFFF;\n",
              "    }\n",
              "  </style>\n",
              "\n",
              "    <script>\n",
              "      const buttonEl =\n",
              "        document.querySelector('#df-bc803904-fb69-42b3-862b-8c9ce3af9802 button.colab-df-convert');\n",
              "      buttonEl.style.display =\n",
              "        google.colab.kernel.accessAllowed ? 'block' : 'none';\n",
              "\n",
              "      async function convertToInteractive(key) {\n",
              "        const element = document.querySelector('#df-bc803904-fb69-42b3-862b-8c9ce3af9802');\n",
              "        const dataTable =\n",
              "          await google.colab.kernel.invokeFunction('convertToInteractive',\n",
              "                                                    [key], {});\n",
              "        if (!dataTable) return;\n",
              "\n",
              "        const docLinkHtml = 'Like what you see? Visit the ' +\n",
              "          '<a target=\"_blank\" href=https://colab.research.google.com/notebooks/data_table.ipynb>data table notebook</a>'\n",
              "          + ' to learn more about interactive tables.';\n",
              "        element.innerHTML = '';\n",
              "        dataTable['output_type'] = 'display_data';\n",
              "        await google.colab.output.renderOutput(dataTable, element);\n",
              "        const docLink = document.createElement('div');\n",
              "        docLink.innerHTML = docLinkHtml;\n",
              "        element.appendChild(docLink);\n",
              "      }\n",
              "    </script>\n",
              "  </div>\n",
              "\n",
              "\n",
              "<div id=\"df-587f31af-2d2c-4728-bb25-fe571d919bd7\">\n",
              "  <button class=\"colab-df-quickchart\" onclick=\"quickchart('df-587f31af-2d2c-4728-bb25-fe571d919bd7')\"\n",
              "            title=\"Suggest charts.\"\n",
              "            style=\"display:none;\">\n",
              "\n",
              "<svg xmlns=\"http://www.w3.org/2000/svg\" height=\"24px\"viewBox=\"0 0 24 24\"\n",
              "     width=\"24px\">\n",
              "    <g>\n",
              "        <path d=\"M19 3H5c-1.1 0-2 .9-2 2v14c0 1.1.9 2 2 2h14c1.1 0 2-.9 2-2V5c0-1.1-.9-2-2-2zM9 17H7v-7h2v7zm4 0h-2V7h2v10zm4 0h-2v-4h2v4z\"/>\n",
              "    </g>\n",
              "</svg>\n",
              "  </button>\n",
              "\n",
              "<style>\n",
              "  .colab-df-quickchart {\n",
              "    background-color: #E8F0FE;\n",
              "    border: none;\n",
              "    border-radius: 50%;\n",
              "    cursor: pointer;\n",
              "    display: none;\n",
              "    fill: #1967D2;\n",
              "    height: 32px;\n",
              "    padding: 0 0 0 0;\n",
              "    width: 32px;\n",
              "  }\n",
              "\n",
              "  .colab-df-quickchart:hover {\n",
              "    background-color: #E2EBFA;\n",
              "    box-shadow: 0px 1px 2px rgba(60, 64, 67, 0.3), 0px 1px 3px 1px rgba(60, 64, 67, 0.15);\n",
              "    fill: #174EA6;\n",
              "  }\n",
              "\n",
              "  [theme=dark] .colab-df-quickchart {\n",
              "    background-color: #3B4455;\n",
              "    fill: #D2E3FC;\n",
              "  }\n",
              "\n",
              "  [theme=dark] .colab-df-quickchart:hover {\n",
              "    background-color: #434B5C;\n",
              "    box-shadow: 0px 1px 3px 1px rgba(0, 0, 0, 0.15);\n",
              "    filter: drop-shadow(0px 1px 2px rgba(0, 0, 0, 0.3));\n",
              "    fill: #FFFFFF;\n",
              "  }\n",
              "</style>\n",
              "\n",
              "  <script>\n",
              "    async function quickchart(key) {\n",
              "      const charts = await google.colab.kernel.invokeFunction(\n",
              "          'suggestCharts', [key], {});\n",
              "    }\n",
              "    (() => {\n",
              "      let quickchartButtonEl =\n",
              "        document.querySelector('#df-587f31af-2d2c-4728-bb25-fe571d919bd7 button');\n",
              "      quickchartButtonEl.style.display =\n",
              "        google.colab.kernel.accessAllowed ? 'block' : 'none';\n",
              "    })();\n",
              "  </script>\n",
              "</div>\n",
              "    </div>\n",
              "  </div>\n"
            ]
          },
          "metadata": {},
          "execution_count": 121
        }
      ],
      "source": [
        "df = pd.read_csv(\"/content/drive/Othercomputers/My Laptop/Apziva Projects/Happy Customers/ACME-HappinessSurvey2020.csv\")\n",
        "df.describe(include='all')"
      ],
      "id": "45469d3c"
    },
    {
      "cell_type": "code",
      "execution_count": 122,
      "metadata": {
        "id": "fe498667",
        "outputId": "fd31536d-4ce5-433f-dfb4-24adb12243d1",
        "colab": {
          "base_uri": "https://localhost:8080/"
        }
      },
      "outputs": [
        {
          "output_type": "stream",
          "name": "stdout",
          "text": [
            "<class 'pandas.core.frame.DataFrame'>\n",
            "RangeIndex: 126 entries, 0 to 125\n",
            "Data columns (total 7 columns):\n",
            " #   Column  Non-Null Count  Dtype\n",
            "---  ------  --------------  -----\n",
            " 0   Y       126 non-null    int64\n",
            " 1   X1      126 non-null    int64\n",
            " 2   X2      126 non-null    int64\n",
            " 3   X3      126 non-null    int64\n",
            " 4   X4      126 non-null    int64\n",
            " 5   X5      126 non-null    int64\n",
            " 6   X6      126 non-null    int64\n",
            "dtypes: int64(7)\n",
            "memory usage: 7.0 KB\n"
          ]
        }
      ],
      "source": [
        "df.info()"
      ],
      "id": "fe498667"
    },
    {
      "cell_type": "code",
      "source": [
        "# var_thresh = VarianceThreshold(threshold=0.1)\n",
        "# transformed_data = var_thresh.fit_transform(df)"
      ],
      "metadata": {
        "id": "MvlKkhclWlJj"
      },
      "id": "MvlKkhclWlJj",
      "execution_count": 123,
      "outputs": []
    },
    {
      "cell_type": "markdown",
      "metadata": {
        "id": "b3c0a10a"
      },
      "source": [
        "Observations:\n",
        "\n",
        "The dataset does not contain any null values."
      ],
      "id": "b3c0a10a"
    },
    {
      "cell_type": "code",
      "execution_count": 124,
      "metadata": {
        "id": "14c13e14",
        "outputId": "bce2572b-0cac-47df-de77-0329e6eeecaf",
        "colab": {
          "base_uri": "https://localhost:8080/"
        }
      },
      "outputs": [
        {
          "output_type": "execute_result",
          "data": {
            "text/plain": [
              "16"
            ]
          },
          "metadata": {},
          "execution_count": 124
        }
      ],
      "source": [
        "len(df) - len(df.drop_duplicates())"
      ],
      "id": "14c13e14"
    },
    {
      "cell_type": "markdown",
      "metadata": {
        "id": "48bffdd5"
      },
      "source": [
        "Observations:\n",
        "\n",
        "There are 16 duplicates present in the dataset which need to be removed."
      ],
      "id": "48bffdd5"
    },
    {
      "cell_type": "code",
      "execution_count": 125,
      "metadata": {
        "id": "c739834c",
        "outputId": "a6e7a323-4d5e-44b1-adf3-d93b45b8b6e2",
        "colab": {
          "base_uri": "https://localhost:8080/",
          "height": 424
        }
      },
      "outputs": [
        {
          "output_type": "execute_result",
          "data": {
            "text/plain": [
              "     Y  X1  X2  X3  X4  X5  X6\n",
              "0    0   3   3   3   4   2   4\n",
              "1    0   3   2   3   5   4   3\n",
              "2    1   5   3   3   3   3   5\n",
              "3    0   5   4   3   3   3   5\n",
              "4    1   5   5   3   5   5   5\n",
              "..  ..  ..  ..  ..  ..  ..  ..\n",
              "105  0   4   4   4   4   1   3\n",
              "106  1   5   2   3   4   4   3\n",
              "107  1   5   2   3   4   2   5\n",
              "108  0   4   3   3   4   4   5\n",
              "109  0   5   3   2   5   5   5\n",
              "\n",
              "[110 rows x 7 columns]"
            ],
            "text/html": [
              "\n",
              "  <div id=\"df-a5fe4bbe-2ab8-4719-9134-3fdf0adda73b\" class=\"colab-df-container\">\n",
              "    <div>\n",
              "<style scoped>\n",
              "    .dataframe tbody tr th:only-of-type {\n",
              "        vertical-align: middle;\n",
              "    }\n",
              "\n",
              "    .dataframe tbody tr th {\n",
              "        vertical-align: top;\n",
              "    }\n",
              "\n",
              "    .dataframe thead th {\n",
              "        text-align: right;\n",
              "    }\n",
              "</style>\n",
              "<table border=\"1\" class=\"dataframe\">\n",
              "  <thead>\n",
              "    <tr style=\"text-align: right;\">\n",
              "      <th></th>\n",
              "      <th>Y</th>\n",
              "      <th>X1</th>\n",
              "      <th>X2</th>\n",
              "      <th>X3</th>\n",
              "      <th>X4</th>\n",
              "      <th>X5</th>\n",
              "      <th>X6</th>\n",
              "    </tr>\n",
              "  </thead>\n",
              "  <tbody>\n",
              "    <tr>\n",
              "      <th>0</th>\n",
              "      <td>0</td>\n",
              "      <td>3</td>\n",
              "      <td>3</td>\n",
              "      <td>3</td>\n",
              "      <td>4</td>\n",
              "      <td>2</td>\n",
              "      <td>4</td>\n",
              "    </tr>\n",
              "    <tr>\n",
              "      <th>1</th>\n",
              "      <td>0</td>\n",
              "      <td>3</td>\n",
              "      <td>2</td>\n",
              "      <td>3</td>\n",
              "      <td>5</td>\n",
              "      <td>4</td>\n",
              "      <td>3</td>\n",
              "    </tr>\n",
              "    <tr>\n",
              "      <th>2</th>\n",
              "      <td>1</td>\n",
              "      <td>5</td>\n",
              "      <td>3</td>\n",
              "      <td>3</td>\n",
              "      <td>3</td>\n",
              "      <td>3</td>\n",
              "      <td>5</td>\n",
              "    </tr>\n",
              "    <tr>\n",
              "      <th>3</th>\n",
              "      <td>0</td>\n",
              "      <td>5</td>\n",
              "      <td>4</td>\n",
              "      <td>3</td>\n",
              "      <td>3</td>\n",
              "      <td>3</td>\n",
              "      <td>5</td>\n",
              "    </tr>\n",
              "    <tr>\n",
              "      <th>4</th>\n",
              "      <td>1</td>\n",
              "      <td>5</td>\n",
              "      <td>5</td>\n",
              "      <td>3</td>\n",
              "      <td>5</td>\n",
              "      <td>5</td>\n",
              "      <td>5</td>\n",
              "    </tr>\n",
              "    <tr>\n",
              "      <th>...</th>\n",
              "      <td>...</td>\n",
              "      <td>...</td>\n",
              "      <td>...</td>\n",
              "      <td>...</td>\n",
              "      <td>...</td>\n",
              "      <td>...</td>\n",
              "      <td>...</td>\n",
              "    </tr>\n",
              "    <tr>\n",
              "      <th>105</th>\n",
              "      <td>0</td>\n",
              "      <td>4</td>\n",
              "      <td>4</td>\n",
              "      <td>4</td>\n",
              "      <td>4</td>\n",
              "      <td>1</td>\n",
              "      <td>3</td>\n",
              "    </tr>\n",
              "    <tr>\n",
              "      <th>106</th>\n",
              "      <td>1</td>\n",
              "      <td>5</td>\n",
              "      <td>2</td>\n",
              "      <td>3</td>\n",
              "      <td>4</td>\n",
              "      <td>4</td>\n",
              "      <td>3</td>\n",
              "    </tr>\n",
              "    <tr>\n",
              "      <th>107</th>\n",
              "      <td>1</td>\n",
              "      <td>5</td>\n",
              "      <td>2</td>\n",
              "      <td>3</td>\n",
              "      <td>4</td>\n",
              "      <td>2</td>\n",
              "      <td>5</td>\n",
              "    </tr>\n",
              "    <tr>\n",
              "      <th>108</th>\n",
              "      <td>0</td>\n",
              "      <td>4</td>\n",
              "      <td>3</td>\n",
              "      <td>3</td>\n",
              "      <td>4</td>\n",
              "      <td>4</td>\n",
              "      <td>5</td>\n",
              "    </tr>\n",
              "    <tr>\n",
              "      <th>109</th>\n",
              "      <td>0</td>\n",
              "      <td>5</td>\n",
              "      <td>3</td>\n",
              "      <td>2</td>\n",
              "      <td>5</td>\n",
              "      <td>5</td>\n",
              "      <td>5</td>\n",
              "    </tr>\n",
              "  </tbody>\n",
              "</table>\n",
              "<p>110 rows × 7 columns</p>\n",
              "</div>\n",
              "    <div class=\"colab-df-buttons\">\n",
              "\n",
              "  <div class=\"colab-df-container\">\n",
              "    <button class=\"colab-df-convert\" onclick=\"convertToInteractive('df-a5fe4bbe-2ab8-4719-9134-3fdf0adda73b')\"\n",
              "            title=\"Convert this dataframe to an interactive table.\"\n",
              "            style=\"display:none;\">\n",
              "\n",
              "  <svg xmlns=\"http://www.w3.org/2000/svg\" height=\"24px\" viewBox=\"0 -960 960 960\">\n",
              "    <path d=\"M120-120v-720h720v720H120Zm60-500h600v-160H180v160Zm220 220h160v-160H400v160Zm0 220h160v-160H400v160ZM180-400h160v-160H180v160Zm440 0h160v-160H620v160ZM180-180h160v-160H180v160Zm440 0h160v-160H620v160Z\"/>\n",
              "  </svg>\n",
              "    </button>\n",
              "\n",
              "  <style>\n",
              "    .colab-df-container {\n",
              "      display:flex;\n",
              "      gap: 12px;\n",
              "    }\n",
              "\n",
              "    .colab-df-convert {\n",
              "      background-color: #E8F0FE;\n",
              "      border: none;\n",
              "      border-radius: 50%;\n",
              "      cursor: pointer;\n",
              "      display: none;\n",
              "      fill: #1967D2;\n",
              "      height: 32px;\n",
              "      padding: 0 0 0 0;\n",
              "      width: 32px;\n",
              "    }\n",
              "\n",
              "    .colab-df-convert:hover {\n",
              "      background-color: #E2EBFA;\n",
              "      box-shadow: 0px 1px 2px rgba(60, 64, 67, 0.3), 0px 1px 3px 1px rgba(60, 64, 67, 0.15);\n",
              "      fill: #174EA6;\n",
              "    }\n",
              "\n",
              "    .colab-df-buttons div {\n",
              "      margin-bottom: 4px;\n",
              "    }\n",
              "\n",
              "    [theme=dark] .colab-df-convert {\n",
              "      background-color: #3B4455;\n",
              "      fill: #D2E3FC;\n",
              "    }\n",
              "\n",
              "    [theme=dark] .colab-df-convert:hover {\n",
              "      background-color: #434B5C;\n",
              "      box-shadow: 0px 1px 3px 1px rgba(0, 0, 0, 0.15);\n",
              "      filter: drop-shadow(0px 1px 2px rgba(0, 0, 0, 0.3));\n",
              "      fill: #FFFFFF;\n",
              "    }\n",
              "  </style>\n",
              "\n",
              "    <script>\n",
              "      const buttonEl =\n",
              "        document.querySelector('#df-a5fe4bbe-2ab8-4719-9134-3fdf0adda73b button.colab-df-convert');\n",
              "      buttonEl.style.display =\n",
              "        google.colab.kernel.accessAllowed ? 'block' : 'none';\n",
              "\n",
              "      async function convertToInteractive(key) {\n",
              "        const element = document.querySelector('#df-a5fe4bbe-2ab8-4719-9134-3fdf0adda73b');\n",
              "        const dataTable =\n",
              "          await google.colab.kernel.invokeFunction('convertToInteractive',\n",
              "                                                    [key], {});\n",
              "        if (!dataTable) return;\n",
              "\n",
              "        const docLinkHtml = 'Like what you see? Visit the ' +\n",
              "          '<a target=\"_blank\" href=https://colab.research.google.com/notebooks/data_table.ipynb>data table notebook</a>'\n",
              "          + ' to learn more about interactive tables.';\n",
              "        element.innerHTML = '';\n",
              "        dataTable['output_type'] = 'display_data';\n",
              "        await google.colab.output.renderOutput(dataTable, element);\n",
              "        const docLink = document.createElement('div');\n",
              "        docLink.innerHTML = docLinkHtml;\n",
              "        element.appendChild(docLink);\n",
              "      }\n",
              "    </script>\n",
              "  </div>\n",
              "\n",
              "\n",
              "<div id=\"df-637cd93b-f578-4ea2-b3b0-c1e3780d86c1\">\n",
              "  <button class=\"colab-df-quickchart\" onclick=\"quickchart('df-637cd93b-f578-4ea2-b3b0-c1e3780d86c1')\"\n",
              "            title=\"Suggest charts.\"\n",
              "            style=\"display:none;\">\n",
              "\n",
              "<svg xmlns=\"http://www.w3.org/2000/svg\" height=\"24px\"viewBox=\"0 0 24 24\"\n",
              "     width=\"24px\">\n",
              "    <g>\n",
              "        <path d=\"M19 3H5c-1.1 0-2 .9-2 2v14c0 1.1.9 2 2 2h14c1.1 0 2-.9 2-2V5c0-1.1-.9-2-2-2zM9 17H7v-7h2v7zm4 0h-2V7h2v10zm4 0h-2v-4h2v4z\"/>\n",
              "    </g>\n",
              "</svg>\n",
              "  </button>\n",
              "\n",
              "<style>\n",
              "  .colab-df-quickchart {\n",
              "    background-color: #E8F0FE;\n",
              "    border: none;\n",
              "    border-radius: 50%;\n",
              "    cursor: pointer;\n",
              "    display: none;\n",
              "    fill: #1967D2;\n",
              "    height: 32px;\n",
              "    padding: 0 0 0 0;\n",
              "    width: 32px;\n",
              "  }\n",
              "\n",
              "  .colab-df-quickchart:hover {\n",
              "    background-color: #E2EBFA;\n",
              "    box-shadow: 0px 1px 2px rgba(60, 64, 67, 0.3), 0px 1px 3px 1px rgba(60, 64, 67, 0.15);\n",
              "    fill: #174EA6;\n",
              "  }\n",
              "\n",
              "  [theme=dark] .colab-df-quickchart {\n",
              "    background-color: #3B4455;\n",
              "    fill: #D2E3FC;\n",
              "  }\n",
              "\n",
              "  [theme=dark] .colab-df-quickchart:hover {\n",
              "    background-color: #434B5C;\n",
              "    box-shadow: 0px 1px 3px 1px rgba(0, 0, 0, 0.15);\n",
              "    filter: drop-shadow(0px 1px 2px rgba(0, 0, 0, 0.3));\n",
              "    fill: #FFFFFF;\n",
              "  }\n",
              "</style>\n",
              "\n",
              "  <script>\n",
              "    async function quickchart(key) {\n",
              "      const charts = await google.colab.kernel.invokeFunction(\n",
              "          'suggestCharts', [key], {});\n",
              "    }\n",
              "    (() => {\n",
              "      let quickchartButtonEl =\n",
              "        document.querySelector('#df-637cd93b-f578-4ea2-b3b0-c1e3780d86c1 button');\n",
              "      quickchartButtonEl.style.display =\n",
              "        google.colab.kernel.accessAllowed ? 'block' : 'none';\n",
              "    })();\n",
              "  </script>\n",
              "</div>\n",
              "    </div>\n",
              "  </div>\n"
            ]
          },
          "metadata": {},
          "execution_count": 125
        }
      ],
      "source": [
        "df.drop_duplicates(inplace = True)\n",
        "df.reset_index(drop= True, inplace = True)\n",
        "df"
      ],
      "id": "c739834c"
    },
    {
      "cell_type": "markdown",
      "metadata": {
        "id": "4fe67927"
      },
      "source": [
        "# EDA"
      ],
      "id": "4fe67927"
    },
    {
      "cell_type": "code",
      "source": [
        "#Histogram and value count of all attributes to find the data distribution\n",
        "for label in df.columns:\n",
        "  plt.hist(df[df[\"Y\"]==1][label], color='blue', label ='Happy', alpha = 0.7, density =True)\n",
        "  plt.hist(df[df[\"Y\"]==0][label], color='red', label ='Unhappy', alpha = 0.7, density =True)\n",
        "  count = df[label].value_counts()\n",
        "  print(\"\\nValue counts of each values in \",label,\"\\n\", count,\"\\n\")\n",
        "  plt.title(label)\n",
        "  plt.ylabel(\"Count\")\n",
        "  plt.xlabel(label)\n",
        "  plt.legend()\n",
        "  plt.show()"
      ],
      "metadata": {
        "colab": {
          "base_uri": "https://localhost:8080/",
          "height": 1000
        },
        "id": "-Dvqy0qyBMS2",
        "outputId": "d79166fa-136f-4e7f-fdb4-100ff4299493"
      },
      "id": "-Dvqy0qyBMS2",
      "execution_count": 126,
      "outputs": [
        {
          "output_type": "stream",
          "name": "stdout",
          "text": [
            "\n",
            "Value counts of each values in  Y \n",
            " 1    56\n",
            "0    54\n",
            "Name: Y, dtype: int64 \n",
            "\n"
          ]
        },
        {
          "output_type": "display_data",
          "data": {
            "text/plain": [
              "<Figure size 640x480 with 1 Axes>"
            ],
            "image/png": "[encoded data removed]"
          },
          "metadata": {}
        },
        {
          "output_type": "stream",
          "name": "stdout",
          "text": [
            "\n",
            "Value counts of each values in  X1 \n",
            " 5    55\n",
            "4    36\n",
            "3    18\n",
            "1     1\n",
            "Name: X1, dtype: int64 \n",
            "\n"
          ]
        },
        {
          "output_type": "display_data",
          "data": {
            "text/plain": [
              "<Figure size 640x480 with 1 Axes>"
            ],
            "image/png": "[encoded data removed]"
          },
          "metadata": {}
        },
        {
          "output_type": "stream",
          "name": "stdout",
          "text": [
            "\n",
            "Value counts of each values in  X2 \n",
            " 3    37\n",
            "2    30\n",
            "1    23\n",
            "4    15\n",
            "5     5\n",
            "Name: X2, dtype: int64 \n",
            "\n"
          ]
        },
        {
          "output_type": "display_data",
          "data": {
            "text/plain": [
              "<Figure size 640x480 with 1 Axes>"
            ],
            "image/png": "[encoded data removed]"
          },
          "metadata": {}
        },
        {
          "output_type": "stream",
          "name": "stdout",
          "text": [
            "\n",
            "Value counts of each values in  X3 \n",
            " 3    50\n",
            "4    27\n",
            "5    14\n",
            "2    13\n",
            "1     6\n",
            "Name: X3, dtype: int64 \n",
            "\n"
          ]
        },
        {
          "output_type": "display_data",
          "data": {
            "text/plain": [
              "<Figure size 640x480 with 1 Axes>"
            ],
            "image/png": "[encoded data removed]"
          },
          "metadata": {}
        },
        {
          "output_type": "stream",
          "name": "stdout",
          "text": [
            "\n",
            "Value counts of each values in  X4 \n",
            " 4    46\n",
            "3    35\n",
            "5    22\n",
            "2     5\n",
            "1     2\n",
            "Name: X4, dtype: int64 \n",
            "\n"
          ]
        },
        {
          "output_type": "display_data",
          "data": {
            "text/plain": [
              "<Figure size 640x480 with 1 Axes>"
            ],
            "image/png": "[encoded data removed]"
          },
          "metadata": {}
        },
        {
          "output_type": "stream",
          "name": "stdout",
          "text": [
            "\n",
            "Value counts of each values in  X5 \n",
            " 4    41\n",
            "5    27\n",
            "3    19\n",
            "2    16\n",
            "1     7\n",
            "Name: X5, dtype: int64 \n",
            "\n"
          ]
        },
        {
          "output_type": "display_data",
          "data": {
            "text/plain": [
              "<Figure size 640x480 with 1 Axes>"
            ],
            "image/png": "[encoded data removed]"
          },
          "metadata": {}
        },
        {
          "output_type": "stream",
          "name": "stdout",
          "text": [
            "\n",
            "Value counts of each values in  X6 \n",
            " 5    48\n",
            "4    40\n",
            "3    20\n",
            "2     1\n",
            "1     1\n",
            "Name: X6, dtype: int64 \n",
            "\n"
          ]
        },
        {
          "output_type": "display_data",
          "data": {
            "text/plain": [
              "<Figure size 640x480 with 1 Axes>"
            ],
            "image/png": "[encoded data removed]"
          },
          "metadata": {}
        }
      ]
    },
    {
      "cell_type": "markdown",
      "source": [
        "**Data Description:**\n",
        "\n",
        "\n",
        "\n",
        "\t\tY = target attribute (Y) with values indicating 0 (unhappy) and 1 (happy) customers (Target Variable - Happiness Index)\n",
        "\n",
        "\tAttributes X1 to X6 indicate the responses for each question and have values from 1 to 5 where the smaller number indicates less and the higher number indicates more towards the answer.\n",
        "\n",
        "\t\tX1 = my order was delivered on time  (Delivery Time)\n",
        "\t\tX2 = contents of my order was as I expected (Product Quality)\n",
        "\t\tX3 = I ordered everything I wanted to order (Product Availability)\n",
        "\t\tX4 = I paid a good price for my order (Order Pricing)\n",
        "\t\tX5 = I am satisfied with my courier (Courier Feedback)\n",
        "        X6 = the app makes ordering easy for me (Application Feedback)\n",
        "      "
      ],
      "metadata": {
        "id": "aDACCq2yEMX1"
      },
      "id": "aDACCq2yEMX1"
    },
    {
      "cell_type": "markdown",
      "source": [
        "**Univariate Analysis (histogram)**\n",
        "    1)Target Y: 50.9% (56) - happy; 49.1% (54) - unhappy;\n",
        "    2)X1 (Delivery Time) : 82.7% (91) - happy; 16.4% (18) - neutral; 0.9% (1) - unhappy;\n",
        "    3)X2 (Product Quality): 18.2% (20) - happy; 33.6% (37) - neutral; 48.2% (53) - unhappy;\n",
        "    4)X3 (Product Availability): 37.2% (41) - happy; 45.5% (50) - neutral; 17.3% (19) - unhappy;\n",
        "    5)X4 (Order Pricing): 61.8% (68) - happy; 31.8% (35) - neutral; 6.4% (7) - unhappy;\n",
        "    6)X5 (Courier Feedback): 61.8% (68) - happy; 17.3% (19) - neutral; 20.9% (23)- unhappy;\n",
        "    7)X6 (Application Feedback): 80% (88) - happy; 18.2% (20) - neutral; 1.8% (2)- unhappy;\n",
        "\n",
        "\n",
        " **Univariate Analysis:**\n",
        "\n",
        "\n",
        "\t• The histograms provide insights into the distribution of each attribute.\n",
        "\t• The majority of customers (50.9%) are classified as happy (Y = 1), while 49.1% are classified as unhappy (Y = 0).\n",
        "\n",
        "**For individual attributes satisfaction: (This doesn't represent the actual satisfation of the customer)**\n",
        "\n",
        "\t• X1 (Delivery Time) has a higher proportion of happy customers (82.7%) compared to unhappy ones (0.9%).\n",
        "\t• X2 (Product Quality) has a higher proportion of uhappy customers 48.2%, with a relatively small proportion of happy customers (18.2%) while remaining (33.6%) are neutral.\n",
        "\t• X3 (Product Availability) shows higher proportion of happy customers (37.2%) and relatively low unhappy 3%, but majority are having a neutral experiance of 45.5% .\n",
        "\t• X4 (Order Pricing) has a higher proportion of happy customers (61.8%) followed by neutral experiance of 31.8% and a relatively low proportion of unhappy customers (6.4%).\n",
        "\t• X5 (Courier Feedback) has a higher proportion of happy customers (61.8%) and a moderate proportion of unhappy customers (20.9%).\n",
        "    • X6 (Application Feedback) is skewed towards happy customers (80%) with only 1.8% being unhappy."
      ],
      "metadata": {
        "id": "Fhtt33XywFrv"
      },
      "id": "Fhtt33XywFrv"
    },
    {
      "cell_type": "code",
      "execution_count": 127,
      "metadata": {
        "id": "4d0026f3",
        "outputId": "7145cdbb-d234-41ac-db13-48568567d193",
        "colab": {
          "base_uri": "https://localhost:8080/",
          "height": 468
        }
      },
      "outputs": [
        {
          "output_type": "display_data",
          "data": {
            "text/plain": [
              "<Figure size 1000x500 with 2 Axes>"
            ],
            "image/png": "[encoded data removed]"
          },
          "metadata": {}
        }
      ],
      "source": [
        "#checking correlation strengh\n",
        "plt.figure(figsize=(10,5))\n",
        "sns.heatmap(df.corr(), cmap=\"coolwarm\" , annot = True )\n",
        "plt.title(\"Correlation Heatmap\")\n",
        "plt.show()"
      ],
      "id": "4d0026f3"
    },
    {
      "cell_type": "markdown",
      "metadata": {
        "id": "559a36bf"
      },
      "source": [
        "X1 (Delivery time) and X5 (Courier feedback) shows a the best correlation in comparison to the remaining features.\n",
        "\n",
        "X2 (Product Quality) and X4 (Order pricing) shows the least correlation for predicting customer satisfaction in term of linear relationship.\n",
        "\n",
        "\n",
        "**Multivariate:**\n",
        "\n",
        "**Correlation between Y and other Attributes:**\n",
        "\n",
        "\t• The highest positive correlation with the target variable Y is observed for X1 (Delivery Time) with a correlation coefficient of 0.286.\n",
        "\t• X3(Product Availability), X5 (Courier Feedback), X6 (Application Feedback) also show low positive correlations with the target Y, with coefficients of 0.13, 0.213 and 0.137 respectively.\n",
        "\t• Among the attributes, X2 (Product Quality) has the lowest but a negative correlation with the target Y followed by X4.\n",
        "\t• The over all correlation stregth is not very good, however there maybe relation between the Y and other attributes that might not be linear in nature.\n",
        "    \n",
        "    \n",
        "**Correlation between Attributes:**\n",
        "\n",
        "\t• There is a moderate positive correlation between X1 (Delivery Time) against X6 (Application Feedback) and X5 (Courier Feedback) suggesting that customers who get delivery on time would be happy with the courier service and are likely to find the app easy to use for ordering.\n",
        "\t• Simliarly there is low positive correlation between X5 and X6, Suggesting simliar to above. If the customer is happy with courier service they might lean towards having a good experiance about the application.\n",
        "\t• Same can be said about X5(Courier Feedback) and X3(Product Availability) having the same low positive correlation as X5 and X6 of 0.31.\n",
        "\t• All the remaing correlation is very low.\n",
        "\n",
        "    "
      ],
      "id": "559a36bf"
    },
    {
      "cell_type": "code",
      "source": [
        "#Vizualizing the linear relation with Target\n",
        "for label in df.columns:\n",
        "  plt.figure(figsize=(2,2))\n",
        "  sns.regplot(x=label,y=\"Y\", data=df)\n",
        "  plt.ylim(0,)\n",
        "  plt.title(label)\n",
        "  plt.show()"
      ],
      "metadata": {
        "colab": {
          "base_uri": "https://localhost:8080/",
          "height": 1000
        },
        "id": "7ahn2ZJEIxfq",
        "outputId": "42cc788e-bbe6-48cc-9dc2-e208cccc63be"
      },
      "id": "7ahn2ZJEIxfq",
      "execution_count": 128,
      "outputs": [
        {
          "output_type": "display_data",
          "data": {
            "text/plain": [
              "<Figure size 200x200 with 1 Axes>"
            ],
            "image/png": "[encoded data removed]"
          },
          "metadata": {}
        },
        {
          "output_type": "display_data",
          "data": {
            "text/plain": [
              "<Figure size 200x200 with 1 Axes>"
            ],
            "image/png": "[encoded data removed]"
          },
          "metadata": {}
        },
        {
          "output_type": "display_data",
          "data": {
            "text/plain": [
              "<Figure size 200x200 with 1 Axes>"
            ],
            "image/png": "[encoded data removed]"
          },
          "metadata": {}
        },
        {
          "output_type": "display_data",
          "data": {
            "text/plain": [
              "<Figure size 200x200 with 1 Axes>"
            ],
            "image/png": "[encoded data removed]"
          },
          "metadata": {}
        },
        {
          "output_type": "display_data",
          "data": {
            "text/plain": [
              "<Figure size 200x200 with 1 Axes>"
            ],
            "image/png": "[encoded data removed]"
          },
          "metadata": {}
        },
        {
          "output_type": "display_data",
          "data": {
            "text/plain": [
              "<Figure size 200x200 with 1 Axes>"
            ],
            "image/png": "[encoded data removed]"
          },
          "metadata": {}
        },
        {
          "output_type": "display_data",
          "data": {
            "text/plain": [
              "<Figure size 200x200 with 1 Axes>"
            ],
            "image/png": "[encoded data removed]"
          },
          "metadata": {}
        }
      ]
    },
    {
      "cell_type": "markdown",
      "metadata": {
        "id": "64b5e379"
      },
      "source": [
        "**Bivariate Analysis Observation: Linear relationship of attributes against Target**\n",
        "\n",
        "    •X1 demonstrates the highest positive linear correlation to Y as compared to the other features.\n",
        "    •On the other hand, X3, X5, and X6 exhibit positive correlations, albeit weaker when compared to the X1 feature.\n",
        "    •X2 and X4 exhibit the least correlation, potentially making them inadequate for predicting the target variable unless there is relation not defined by linearity.\n",
        "    •There are few outliers observed in all the features that doesnt fit the linear relatiosnship."
      ],
      "id": "64b5e379"
    },
    {
      "cell_type": "markdown",
      "metadata": {
        "id": "5e4ca7cd"
      },
      "source": [
        "**EDA Conclusion:**\n",
        "    \n",
        "    •X1 (Delivery Time),X5 (Courier Feedback)and X6 (Application Feedback) are the relatively positive correlated attributes with the target Y. These attributes might play a significant role in predicting Y.\n",
        "    •X2 (Product Quality) and X4 (Order pricing) has the lowest correlation with the target Y, implying that it might have less impact on customer happiness prediction. X2 (Product Quality) has a relatively high proportion of unhappy customers (48.2%) compared to happy customers (18.2%). Also Y might have dependence with X2 and X4 that is not defined by linear correlation.\n",
        "    •The distribution of each attribute provides insights into the varying importance of features.\n",
        "    •For further analysis, feature importance through machine learning models, can help validate the relative importance of each attribute in predicting customer happiness more accurately."
      ],
      "id": "5e4ca7cd"
    },
    {
      "cell_type": "markdown",
      "metadata": {
        "id": "5cdb7ebd"
      },
      "source": [
        "# Model Evaluation"
      ],
      "id": "5cdb7ebd"
    },
    {
      "cell_type": "code",
      "execution_count": 129,
      "metadata": {
        "id": "f6deeda2"
      },
      "outputs": [],
      "source": [
        "y = df[\"Y\"]\n",
        "X= df.drop([\"Y\"], axis = 1)\n",
        "X_train, X_test, y_train, y_test = train_test_split(X, y, test_size = 0.2, random_state=100 )"
      ],
      "id": "f6deeda2"
    },
    {
      "cell_type": "code",
      "execution_count": 130,
      "metadata": {
        "id": "b76a7197"
      },
      "outputs": [],
      "source": [
        "#Trying different model to find the best fit\n",
        "lr = LogisticRegression()\n",
        "knn = KNeighborsClassifier()\n",
        "dt = DecisionTreeClassifier()\n",
        "rf = RandomForestClassifier()\n",
        "nb = GaussianNB()\n",
        "xgb = XGBClassifier()\n",
        "lgbm = LGBMClassifier(verbose = -1)\n",
        "svm = SVC()\n"
      ],
      "id": "b76a7197"
    },
    {
      "cell_type": "code",
      "execution_count": 131,
      "metadata": {
        "colab": {
          "base_uri": "https://localhost:8080/"
        },
        "id": "1add5f8f",
        "outputId": "ada60b48-a47a-42cd-9867-e74d6b2a2166"
      },
      "outputs": [
        {
          "output_type": "stream",
          "name": "stdout",
          "text": [
            "\n",
            "Selected Model : RandomForestClassifier()\n",
            "RandomForestClassifier() Model training Accuracy :  95.45454545454545\n",
            "RandomForestClassifier() Model testing Accuracy :  59.09090909090909\n",
            "RandomForestClassifier() f1_score: 0.64\n",
            "\n",
            "\n",
            "\n",
            "\n",
            "Selected Model : LGBMClassifier(verbose=-1)\n",
            "LGBMClassifier(verbose=-1) Model training Accuracy :  64.77272727272727\n",
            "LGBMClassifier(verbose=-1) Model testing Accuracy :  77.27272727272727\n",
            "LGBMClassifier(verbose=-1) f1_score: 0.8148148148148148\n",
            "\n",
            "\n",
            "\n",
            "\n",
            "Selected Model : LogisticRegression()\n",
            "LogisticRegression() Model training Accuracy :  61.36363636363637\n",
            "LogisticRegression() Model testing Accuracy :  68.18181818181817\n",
            "LogisticRegression() f1_score: 0.7407407407407408\n",
            "\n",
            "\n",
            "\n",
            "\n",
            "Selected Model : KNeighborsClassifier()\n",
            "KNeighborsClassifier() Model training Accuracy :  65.9090909090909\n",
            "KNeighborsClassifier() Model testing Accuracy :  50.0\n",
            "KNeighborsClassifier() f1_score: 0.5925925925925927\n",
            "\n",
            "\n",
            "\n",
            "\n",
            "Selected Model : DecisionTreeClassifier()\n",
            "DecisionTreeClassifier() Model training Accuracy :  95.45454545454545\n",
            "DecisionTreeClassifier() Model testing Accuracy :  40.909090909090914\n",
            "DecisionTreeClassifier() f1_score: 0.4799999999999999\n",
            "\n",
            "\n",
            "\n",
            "\n",
            "Selected Model : GaussianNB()\n",
            "GaussianNB() Model training Accuracy :  59.09090909090909\n",
            "GaussianNB() Model testing Accuracy :  63.63636363636363\n",
            "GaussianNB() f1_score: 0.7142857142857143\n",
            "\n",
            "\n",
            "\n",
            "\n",
            "Selected Model : SVC()\n",
            "SVC() Model training Accuracy :  64.77272727272727\n",
            "SVC() Model testing Accuracy :  72.72727272727273\n",
            "SVC() f1_score: 0.7692307692307692\n",
            "\n",
            "\n",
            "\n",
            "\n",
            "Selected Model : XGBClassifier(base_score=None, booster=None, callbacks=None,\n",
            "              colsample_bylevel=None, colsample_bynode=None,\n",
            "              colsample_bytree=None, early_stopping_rounds=None,\n",
            "              enable_categorical=False, eval_metric=None, feature_types=None,\n",
            "              gamma=None, gpu_id=None, grow_policy=None, importance_type=None,\n",
            "              interaction_constraints=None, learning_rate=None, max_bin=None,\n",
            "              max_cat_threshold=None, max_cat_to_onehot=None,\n",
            "              max_delta_step=None, max_depth=None, max_leaves=None,\n",
            "              min_child_weight=None, missing=nan, monotone_constraints=None,\n",
            "              n_estimators=100, n_jobs=None, num_parallel_tree=None,\n",
            "              predictor=None, random_state=None, ...)\n",
            "XGBClassifier(base_score=None, booster=None, callbacks=None,\n",
            "              colsample_bylevel=None, colsample_bynode=None,\n",
            "              colsample_bytree=None, early_stopping_rounds=None,\n",
            "              enable_categorical=False, eval_metric=None, feature_types=None,\n",
            "              gamma=None, gpu_id=None, grow_policy=None, importance_type=None,\n",
            "              interaction_constraints=None, learning_rate=None, max_bin=None,\n",
            "              max_cat_threshold=None, max_cat_to_onehot=None,\n",
            "              max_delta_step=None, max_depth=None, max_leaves=None,\n",
            "              min_child_weight=None, missing=nan, monotone_constraints=None,\n",
            "              n_estimators=100, n_jobs=None, num_parallel_tree=None,\n",
            "              predictor=None, random_state=None, ...) Model training Accuracy :  94.31818181818183\n",
            "XGBClassifier(base_score=None, booster=None, callbacks=None,\n",
            "              colsample_bylevel=None, colsample_bynode=None,\n",
            "              colsample_bytree=None, early_stopping_rounds=None,\n",
            "              enable_categorical=False, eval_metric=None, feature_types=None,\n",
            "              gamma=None, gpu_id=None, grow_policy=None, importance_type=None,\n",
            "              interaction_constraints=None, learning_rate=None, max_bin=None,\n",
            "              max_cat_threshold=None, max_cat_to_onehot=None,\n",
            "              max_delta_step=None, max_depth=None, max_leaves=None,\n",
            "              min_child_weight=None, missing=nan, monotone_constraints=None,\n",
            "              n_estimators=100, n_jobs=None, num_parallel_tree=None,\n",
            "              predictor=None, random_state=None, ...) Model testing Accuracy :  59.09090909090909\n",
            "XGBClassifier(base_score=None, booster=None, callbacks=None,\n",
            "              colsample_bylevel=None, colsample_bynode=None,\n",
            "              colsample_bytree=None, early_stopping_rounds=None,\n",
            "              enable_categorical=False, eval_metric=None, feature_types=None,\n",
            "              gamma=None, gpu_id=None, grow_policy=None, importance_type=None,\n",
            "              interaction_constraints=None, learning_rate=None, max_bin=None,\n",
            "              max_cat_threshold=None, max_cat_to_onehot=None,\n",
            "              max_delta_step=None, max_depth=None, max_leaves=None,\n",
            "              min_child_weight=None, missing=nan, monotone_constraints=None,\n",
            "              n_estimators=100, n_jobs=None, num_parallel_tree=None,\n",
            "              predictor=None, random_state=None, ...) f1_score: 0.6666666666666666\n",
            "\n",
            "\n",
            "\n"
          ]
        }
      ],
      "source": [
        "#model performances with all attributes and without defining any parameters\n",
        "\n",
        "models = [rf,lgbm,lr,knn,dt,nb,svm,xgb]\n",
        "#models = [rf]\n",
        "\n",
        "def model_trial(models):\n",
        "    for i in models:\n",
        "        i.fit(X_train,y_train)\n",
        "        i.pred = i.predict(X_test)\n",
        "        print(\"\\nSelected Model :\",i)\n",
        "        print(i,\"Model training Accuracy : \", i.score(X_train,y_train)*100)\n",
        "        print(i,\"Model testing Accuracy : \", accuracy_score(y_test,i.pred)*100)\n",
        "        print(i,\"f1_score:\", f1_score(y_test,i.pred))\n",
        "        print(\"\\n\\n\")\n",
        "\n",
        "model_trial(models)"
      ],
      "id": "1add5f8f"
    },
    {
      "cell_type": "markdown",
      "metadata": {
        "id": "71826886"
      },
      "source": [
        "**Classification Model Performance Observation:**\n",
        "\n",
        "*   Currently, LightGBM (lgbm) is selected as it attained an testing accuracy of 77.2% for a test size of 20% and a random_state value of 100, which outperforms the other models.\n",
        "*    Along with LGBM , RF classifer is also selected randomly out of 2nd best performing models to see if it can be optimized it by pararameter tuning.\n",
        "*   Crossvalidation will be performed next on both Classifier to check their model performance consistency.\n",
        "\n",
        "\n",
        "\n",
        "\n",
        "\n",
        "   \n",
        "    "
      ],
      "id": "71826886"
    },
    {
      "cell_type": "markdown",
      "metadata": {
        "id": "04348ddf"
      },
      "source": [
        "# Cross Validation without parameter tuning\n"
      ],
      "id": "04348ddf"
    },
    {
      "cell_type": "code",
      "execution_count": 133,
      "metadata": {
        "id": "f53c64cb"
      },
      "outputs": [],
      "source": [
        "#Cross Validation using cross_val_score using skf (Selected skf as it offered better accuracy that kf)\n",
        "\n",
        "#Selected models\n",
        "rf_model = RandomForestClassifier()\n",
        "lgbm_model = LGBMClassifier(verbose = -1)\n",
        "\n",
        "def training_cross_val(models_2,folds,rs):\n",
        "  skf = StratifiedKFold(n_splits=folds,shuffle = True, random_state = rs)\n",
        "\n",
        "  for selected_model in models_2:\n",
        "\n",
        "    Accuracy_vals = cross_val_score(selected_model,X,y,cv = skf)\n",
        "    print(\"\\nModel: \",selected_model)\n",
        "    print(\"\\nAll scores\", Accuracy_vals)\n",
        "    print(\"Minimum Accuracy:\", min(Accuracy_vals)*100)\n",
        "    print(\"Maximum Accuracy:\", max(Accuracy_vals)*100)\n",
        "    print(\"Average Accuracy:\", np.mean(Accuracy_vals)*100,\"\\n\")\n"
      ],
      "id": "f53c64cb"
    },
    {
      "cell_type": "code",
      "source": [
        "#Current Crossvalidation score without parameter tuning and using 10 folds\n",
        "\n",
        "models_new = [rf_model,lgbm_model]\n",
        "training_cross_val(models_new, 10, 100) #currently using skf"
      ],
      "metadata": {
        "colab": {
          "base_uri": "https://localhost:8080/"
        },
        "id": "LghtPhsij2RC",
        "outputId": "7450e6af-97e0-4e7d-c4fe-0280f851189b"
      },
      "id": "LghtPhsij2RC",
      "execution_count": 134,
      "outputs": [
        {
          "output_type": "stream",
          "name": "stdout",
          "text": [
            "\n",
            "Model:  RandomForestClassifier()\n",
            "\n",
            "All scores [0.45454545 0.54545455 0.54545455 0.36363636 0.63636364 0.36363636\n",
            " 0.72727273 0.27272727 0.45454545 0.45454545]\n",
            "Minimum Accuracy: 27.27272727272727\n",
            "Maximum Accuracy: 72.72727272727273\n",
            "Average Accuracy: 48.18181818181817 \n",
            "\n",
            "\n",
            "Model:  LGBMClassifier(verbose=-1)\n",
            "\n",
            "All scores [0.45454545 0.36363636 0.81818182 0.63636364 0.72727273 0.45454545\n",
            " 0.72727273 0.63636364 0.54545455 0.63636364]\n",
            "Minimum Accuracy: 36.36363636363637\n",
            "Maximum Accuracy: 81.81818181818183\n",
            "Average Accuracy: 60.0 \n",
            "\n"
          ]
        }
      ]
    },
    {
      "cell_type": "markdown",
      "source": [
        "**SKF output Observation:**\n",
        "\n",
        "(no: of folds = 10, random_state = 100)\n",
        "1.  There is no consistency in model performance.\n",
        "  *   LGBM average - 60%\n",
        "  *   RF average - 51.81\n",
        "2. Was able to achive\n",
        "  *   Maximum of 81.81% accuracy for LGBM\n",
        "  *   Maximum of 72.72 accuracy for RF\n",
        "\n",
        "\n",
        "\n",
        "\n",
        "\n"
      ],
      "metadata": {
        "id": "lxoS1v9o7toV"
      },
      "id": "lxoS1v9o7toV"
    },
    {
      "cell_type": "markdown",
      "metadata": {
        "id": "edcc73f2"
      },
      "source": [
        "\n",
        "## **Parameter Tuning**"
      ],
      "id": "edcc73f2"
    },
    {
      "cell_type": "markdown",
      "metadata": {
        "id": "b5a4bc62"
      },
      "source": [
        "RandomForestClassifier using different hyperparameter tuning methods — Grid search, Hyperopt and Optuna.\n"
      ],
      "id": "b5a4bc62"
    },
    {
      "cell_type": "markdown",
      "source": [
        "### **Gridsearch**"
      ],
      "metadata": {
        "id": "2Pxtp7Bix1qL"
      },
      "id": "2Pxtp7Bix1qL"
    },
    {
      "cell_type": "code",
      "execution_count": 178,
      "metadata": {
        "id": "6d70d9ad"
      },
      "outputs": [],
      "source": [
        "# #RF - parameter tuning using gs\n",
        "\n",
        "# parameters = {\n",
        "#     'n_estimators': np.arange(5,205,10),\n",
        "#     'max_depth': np.arange(1,15,1),\n",
        "#     'random_state':np.arange(0,101,10),\n",
        "#     'criterion' : [\"gini\",\"entropy\"],\n",
        "#     'max_features': np.arange(0.01,1)\n",
        "# }\n",
        "\n",
        "# skf = StratifiedKFold(n_splits=10,shuffle = True)\n",
        "\n",
        "# gs = GridSearchCV(estimator = rf_model,\n",
        "#                   param_grid = parameters,\n",
        "#                   scoring = \"accuracy\",\n",
        "#                   refit = \"accuracy\",\n",
        "#                   cv = skf, #change to skf later\n",
        "#                   verbose = -1,\n",
        "#                   n_jobs = 1\n",
        "#                   )\n",
        "\n",
        "# gs.fit(X, y)\n",
        "# print(\"\\nAll details of best model:\",gs.best_estimator_) #for all details of the best model\n",
        "# print(\"\\nBest parameter values:\",gs.best_params_) # to get only the best hpara value that we searched for\n",
        "# print(\"Best score using best para:\",gs.best_score_) # best score"
      ],
      "id": "6d70d9ad"
    },
    {
      "cell_type": "markdown",
      "source": [
        "### **Hyperopt**"
      ],
      "metadata": {
        "id": "umo6Jp53x9cd"
      },
      "id": "umo6Jp53x9cd"
    },
    {
      "cell_type": "code",
      "source": [
        "def optimize(params, x, y):\n",
        "  model = RandomForestClassifier(**params)\n",
        "  skf = StratifiedKFold(n_splits=10)\n",
        "  accuracy = []\n",
        "\n",
        "  for train_index, test_index in skf.split(X=x,y=y):\n",
        "    Xtrain_o, Xtest_o, ytrain_o, ytest_o = X.iloc[train_index], X.iloc[test_index], y[train_index], y[test_index]\n",
        "\n",
        "    model.fit(Xtrain_o,ytrain_o)\n",
        "    ypred = model.predict(Xtest_o)\n",
        "    acc = accuracy_score(ytest_o,ypred)\n",
        "    accuracy.append(acc)\n",
        "\n",
        "  return -1.0 * np.mean(accuracy) #maximizing the negative of accuracy as hypert is designed to work with minimization objectives"
      ],
      "metadata": {
        "id": "zmccG-qK_fVw"
      },
      "id": "zmccG-qK_fVw",
      "execution_count": 141,
      "outputs": []
    },
    {
      "cell_type": "code",
      "source": [
        "params = {\n",
        "    \"max_depth\": scope.int(hp.quniform(\"max_depth\", 3, 20, 1)),\n",
        "    \"n_estimators\": scope.int(hp.quniform(\"n_estimators\", 5, 505, 10)),\n",
        "    \"random_state\": scope.int(hp.quniform(\"random_state\",0,101,10)),\n",
        "    \"criterion\": hp.choice(\"criterion\", [\"gini\",\"entropy\"]),\n",
        "    \"max_features\": hp.uniform(\"max_features\", 0.01,1)\n",
        "}\n",
        "\n",
        "\n",
        "optimization_function = partial(\n",
        "    optimize,\n",
        "    x=X,\n",
        "    y=y\n",
        ")\n",
        "\n",
        "trials = Trials()\n",
        "\n",
        "result = fmin(\n",
        "    fn = optimization_function,\n",
        "    space=params,\n",
        "    algo=tpe.suggest,\n",
        "    max_evals=50,\n",
        "    trials=trials\n",
        "\n",
        ")\n",
        "\n",
        "print(result)\n",
        "# for trial in trials.trials:\n",
        "#     print(\"\\n\\nAll Records:\")\n",
        "#     print(\"Hyperparameters:\", trial['misc']['vals'])\n",
        "#     print(\"Values:\", trial['result']['loss'])\n"
      ],
      "metadata": {
        "colab": {
          "base_uri": "https://localhost:8080/"
        },
        "outputId": "3fb58f05-cb67-414a-8b25-9305ada9ae2a",
        "id": "Y0idI5jGnIg0"
      },
      "execution_count": 142,
      "outputs": [
        {
          "output_type": "stream",
          "name": "stdout",
          "text": [
            "100%|██████████| 50/50 [03:33<00:00,  4.27s/trial, best loss: -0.618181818181818]\n",
            "{'criterion': 1, 'max_depth': 4.0, 'max_features': 0.286754781408882, 'n_estimators': 200.0, 'random_state': 20.0}\n"
          ]
        }
      ],
      "id": "Y0idI5jGnIg0"
    },
    {
      "cell_type": "markdown",
      "source": [
        "### **Optuna**"
      ],
      "metadata": {
        "id": "jFzy6VAlydM_"
      },
      "id": "jFzy6VAlydM_"
    },
    {
      "cell_type": "code",
      "source": [
        "#Optimize function for optuna\n",
        "\n",
        "def optimize_2(trial, x, y):\n",
        "  params = {\n",
        "          \"n_estimators\": trial.suggest_int(\"n_estimators\", 5, 505, 10),\n",
        "          \"max_depth\": trial.suggest_int(\"max_depth\", 3, 20, 1),\n",
        "          \"random_state\": trial.suggest_int(\"random_state\", 0, 110, 10),\n",
        "          \"criterion\": trial.suggest_categorical(\"criterion\", [\"gini\", \"entropy\"]),\n",
        "          \"max_features\": trial.suggest_float(\"max_features\", 0.01, 1.0)\n",
        "      }\n",
        "\n",
        "  model = RandomForestClassifier(**params)\n",
        "\n",
        "  skf = StratifiedKFold(n_splits=10)\n",
        "  accuracy = []\n",
        "\n",
        "  for train_index, test_index in skf.split(X=x,y=y):\n",
        "    Xtrain, Xtest, ytrain, ytest = X.iloc[train_index], X.iloc[test_index], y[train_index], y[test_index]\n",
        "\n",
        "    model.fit(Xtrain,ytrain)\n",
        "    preds = model.predict(Xtest)\n",
        "    acc = accuracy_score(ytest,preds)\n",
        "    accuracy.append(acc)\n",
        "\n",
        "  print(\"\\nAll scores\", accuracy)\n",
        "  print(\"Minimum Accuracy:\", min(accuracy)*100)\n",
        "  print(\"Maximum Accuracy:\", max(accuracy)*100)\n",
        "  print(\"Average accuracy is \",np.mean(accuracy)*100)\n",
        "  print(\"\\nNext trial starts--------------\\n\")\n",
        "\n",
        "  return np.mean(accuracy)\n"
      ],
      "metadata": {
        "id": "mkS3LY-npPcH"
      },
      "id": "mkS3LY-npPcH",
      "execution_count": 139,
      "outputs": []
    },
    {
      "cell_type": "code",
      "execution_count": 140,
      "metadata": {
        "id": "75fd8e46",
        "colab": {
          "base_uri": "https://localhost:8080/"
        },
        "outputId": "7dd419d5-4ff8-4891-ad9d-7f75ae889d83"
      },
      "outputs": [
        {
          "output_type": "stream",
          "name": "stderr",
          "text": [
            "[I 2023-08-18 12:30:31,447] A new study created in memory with name: no-name-2ca74fea-41b3-4e78-82f0-5f365b1a64f7\n",
            "[I 2023-08-18 12:30:33,822] Trial 0 finished with value: 0.509090909090909 and parameters: {'n_estimators': 145, 'max_depth': 13, 'random_state': 60, 'criterion': 'gini', 'max_features': 0.721764601016535}. Best is trial 0 with value: 0.509090909090909.\n"
          ]
        },
        {
          "output_type": "stream",
          "name": "stdout",
          "text": [
            "\n",
            "All scores [0.8181818181818182, 0.45454545454545453, 0.45454545454545453, 0.36363636363636365, 0.5454545454545454, 0.36363636363636365, 0.7272727272727273, 0.6363636363636364, 0.2727272727272727, 0.45454545454545453]\n",
            "Minimum Accuracy: 27.27272727272727\n",
            "Maximum Accuracy: 81.81818181818183\n",
            "Average accuracy is  50.90909090909091\n",
            "\n",
            "Next trial starts--------------\n",
            "\n"
          ]
        },
        {
          "output_type": "stream",
          "name": "stderr",
          "text": [
            "[I 2023-08-18 12:30:36,993] Trial 1 finished with value: 0.5 and parameters: {'n_estimators': 195, 'max_depth': 18, 'random_state': 40, 'criterion': 'entropy', 'max_features': 0.19175329771956348}. Best is trial 0 with value: 0.509090909090909.\n"
          ]
        },
        {
          "output_type": "stream",
          "name": "stdout",
          "text": [
            "\n",
            "All scores [0.7272727272727273, 0.45454545454545453, 0.45454545454545453, 0.36363636363636365, 0.5454545454545454, 0.36363636363636365, 0.7272727272727273, 0.6363636363636364, 0.2727272727272727, 0.45454545454545453]\n",
            "Minimum Accuracy: 27.27272727272727\n",
            "Maximum Accuracy: 72.72727272727273\n",
            "Average accuracy is  50.0\n",
            "\n",
            "Next trial starts--------------\n",
            "\n"
          ]
        },
        {
          "output_type": "stream",
          "name": "stderr",
          "text": [
            "[I 2023-08-18 12:30:37,451] Trial 2 finished with value: 0.5636363636363636 and parameters: {'n_estimators': 25, 'max_depth': 3, 'random_state': 100, 'criterion': 'gini', 'max_features': 0.8927474747653094}. Best is trial 2 with value: 0.5636363636363636.\n"
          ]
        },
        {
          "output_type": "stream",
          "name": "stdout",
          "text": [
            "\n",
            "All scores [0.8181818181818182, 0.45454545454545453, 0.5454545454545454, 0.45454545454545453, 0.6363636363636364, 0.5454545454545454, 0.5454545454545454, 1.0, 0.45454545454545453, 0.18181818181818182]\n",
            "Minimum Accuracy: 18.181818181818183\n",
            "Maximum Accuracy: 100.0\n",
            "Average accuracy is  56.36363636363636\n",
            "\n",
            "Next trial starts--------------\n",
            "\n"
          ]
        },
        {
          "output_type": "stream",
          "name": "stderr",
          "text": [
            "[I 2023-08-18 12:30:46,625] Trial 3 finished with value: 0.618181818181818 and parameters: {'n_estimators': 445, 'max_depth': 3, 'random_state': 80, 'criterion': 'gini', 'max_features': 0.7122563392133858}. Best is trial 3 with value: 0.618181818181818.\n"
          ]
        },
        {
          "output_type": "stream",
          "name": "stdout",
          "text": [
            "\n",
            "All scores [0.9090909090909091, 0.45454545454545453, 0.5454545454545454, 0.45454545454545453, 0.8181818181818182, 0.5454545454545454, 0.7272727272727273, 1.0, 0.45454545454545453, 0.2727272727272727]\n",
            "Minimum Accuracy: 27.27272727272727\n",
            "Maximum Accuracy: 100.0\n",
            "Average accuracy is  61.818181818181806\n",
            "\n",
            "Next trial starts--------------\n",
            "\n"
          ]
        },
        {
          "output_type": "stream",
          "name": "stderr",
          "text": [
            "[I 2023-08-18 12:30:52,985] Trial 4 finished with value: 0.49090909090909085 and parameters: {'n_estimators': 405, 'max_depth': 17, 'random_state': 0, 'criterion': 'entropy', 'max_features': 0.15070799284554628}. Best is trial 3 with value: 0.618181818181818.\n"
          ]
        },
        {
          "output_type": "stream",
          "name": "stdout",
          "text": [
            "\n",
            "All scores [0.7272727272727273, 0.45454545454545453, 0.45454545454545453, 0.36363636363636365, 0.45454545454545453, 0.36363636363636365, 0.7272727272727273, 0.6363636363636364, 0.2727272727272727, 0.45454545454545453]\n",
            "Minimum Accuracy: 27.27272727272727\n",
            "Maximum Accuracy: 72.72727272727273\n",
            "Average accuracy is  49.090909090909086\n",
            "\n",
            "Next trial starts--------------\n",
            "\n"
          ]
        },
        {
          "output_type": "stream",
          "name": "stderr",
          "text": [
            "[I 2023-08-18 12:30:54,419] Trial 5 finished with value: 0.5636363636363636 and parameters: {'n_estimators': 85, 'max_depth': 6, 'random_state': 0, 'criterion': 'entropy', 'max_features': 0.9641313570977406}. Best is trial 3 with value: 0.618181818181818.\n"
          ]
        },
        {
          "output_type": "stream",
          "name": "stdout",
          "text": [
            "\n",
            "All scores [0.7272727272727273, 0.5454545454545454, 0.45454545454545453, 0.45454545454545453, 0.8181818181818182, 0.45454545454545453, 0.6363636363636364, 0.9090909090909091, 0.2727272727272727, 0.36363636363636365]\n",
            "Minimum Accuracy: 27.27272727272727\n",
            "Maximum Accuracy: 90.9090909090909\n",
            "Average accuracy is  56.36363636363636\n",
            "\n",
            "Next trial starts--------------\n",
            "\n"
          ]
        },
        {
          "output_type": "stream",
          "name": "stderr",
          "text": [
            "[I 2023-08-18 12:31:01,819] Trial 6 finished with value: 0.5454545454545453 and parameters: {'n_estimators': 315, 'max_depth': 6, 'random_state': 30, 'criterion': 'entropy', 'max_features': 0.8839927940102925}. Best is trial 3 with value: 0.618181818181818.\n"
          ]
        },
        {
          "output_type": "stream",
          "name": "stdout",
          "text": [
            "\n",
            "All scores [0.9090909090909091, 0.5454545454545454, 0.45454545454545453, 0.36363636363636365, 0.6363636363636364, 0.45454545454545453, 0.6363636363636364, 0.7272727272727273, 0.36363636363636365, 0.36363636363636365]\n",
            "Minimum Accuracy: 36.36363636363637\n",
            "Maximum Accuracy: 90.9090909090909\n",
            "Average accuracy is  54.54545454545453\n",
            "\n",
            "Next trial starts--------------\n",
            "\n"
          ]
        },
        {
          "output_type": "stream",
          "name": "stderr",
          "text": [
            "[I 2023-08-18 12:31:03,732] Trial 7 finished with value: 0.5181818181818182 and parameters: {'n_estimators': 115, 'max_depth': 16, 'random_state': 10, 'criterion': 'gini', 'max_features': 0.05725648277803982}. Best is trial 3 with value: 0.618181818181818.\n"
          ]
        },
        {
          "output_type": "stream",
          "name": "stdout",
          "text": [
            "\n",
            "All scores [0.8181818181818182, 0.45454545454545453, 0.45454545454545453, 0.36363636363636365, 0.45454545454545453, 0.36363636363636365, 0.7272727272727273, 0.6363636363636364, 0.2727272727272727, 0.6363636363636364]\n",
            "Minimum Accuracy: 27.27272727272727\n",
            "Maximum Accuracy: 81.81818181818183\n",
            "Average accuracy is  51.81818181818182\n",
            "\n",
            "Next trial starts--------------\n",
            "\n"
          ]
        },
        {
          "output_type": "stream",
          "name": "stderr",
          "text": [
            "[I 2023-08-18 12:31:08,310] Trial 8 finished with value: 0.4999999999999999 and parameters: {'n_estimators': 275, 'max_depth': 9, 'random_state': 0, 'criterion': 'entropy', 'max_features': 0.7569113322594615}. Best is trial 3 with value: 0.618181818181818.\n",
            "[I 2023-08-18 12:31:08,476] Trial 9 finished with value: 0.46363636363636357 and parameters: {'n_estimators': 5, 'max_depth': 18, 'random_state': 90, 'criterion': 'entropy', 'max_features': 0.3818460616989321}. Best is trial 3 with value: 0.618181818181818.\n"
          ]
        },
        {
          "output_type": "stream",
          "name": "stdout",
          "text": [
            "\n",
            "All scores [0.8181818181818182, 0.45454545454545453, 0.45454545454545453, 0.36363636363636365, 0.5454545454545454, 0.36363636363636365, 0.6363636363636364, 0.6363636363636364, 0.2727272727272727, 0.45454545454545453]\n",
            "Minimum Accuracy: 27.27272727272727\n",
            "Maximum Accuracy: 81.81818181818183\n",
            "Average accuracy is  49.999999999999986\n",
            "\n",
            "Next trial starts--------------\n",
            "\n",
            "\n",
            "All scores [0.45454545454545453, 0.36363636363636365, 0.36363636363636365, 0.45454545454545453, 0.45454545454545453, 0.45454545454545453, 0.6363636363636364, 0.6363636363636364, 0.36363636363636365, 0.45454545454545453]\n",
            "Minimum Accuracy: 36.36363636363637\n",
            "Maximum Accuracy: 63.63636363636363\n",
            "Average accuracy is  46.36363636363636\n",
            "\n",
            "Next trial starts--------------\n",
            "\n"
          ]
        },
        {
          "output_type": "stream",
          "name": "stderr",
          "text": [
            "[I 2023-08-18 12:31:19,085] Trial 10 finished with value: 0.509090909090909 and parameters: {'n_estimators': 505, 'max_depth': 11, 'random_state': 70, 'criterion': 'gini', 'max_features': 0.5551489946189221}. Best is trial 3 with value: 0.618181818181818.\n"
          ]
        },
        {
          "output_type": "stream",
          "name": "stdout",
          "text": [
            "\n",
            "All scores [0.8181818181818182, 0.45454545454545453, 0.45454545454545453, 0.36363636363636365, 0.5454545454545454, 0.36363636363636365, 0.7272727272727273, 0.6363636363636364, 0.2727272727272727, 0.45454545454545453]\n",
            "Minimum Accuracy: 27.27272727272727\n",
            "Maximum Accuracy: 81.81818181818183\n",
            "Average accuracy is  50.90909090909091\n",
            "\n",
            "Next trial starts--------------\n",
            "\n"
          ]
        },
        {
          "output_type": "stream",
          "name": "stderr",
          "text": [
            "[I 2023-08-18 12:31:26,520] Trial 11 finished with value: 0.5999999999999999 and parameters: {'n_estimators': 385, 'max_depth': 3, 'random_state': 110, 'criterion': 'gini', 'max_features': 0.994289809910649}. Best is trial 3 with value: 0.618181818181818.\n"
          ]
        },
        {
          "output_type": "stream",
          "name": "stdout",
          "text": [
            "\n",
            "All scores [0.9090909090909091, 0.45454545454545453, 0.5454545454545454, 0.45454545454545453, 0.7272727272727273, 0.5454545454545454, 0.7272727272727273, 0.9090909090909091, 0.45454545454545453, 0.2727272727272727]\n",
            "Minimum Accuracy: 27.27272727272727\n",
            "Maximum Accuracy: 90.9090909090909\n",
            "Average accuracy is  59.999999999999986\n",
            "\n",
            "Next trial starts--------------\n",
            "\n"
          ]
        },
        {
          "output_type": "stream",
          "name": "stderr",
          "text": [
            "[I 2023-08-18 12:31:40,240] Trial 12 finished with value: 0.5999999999999999 and parameters: {'n_estimators': 415, 'max_depth': 3, 'random_state': 110, 'criterion': 'gini', 'max_features': 0.995418393958963}. Best is trial 3 with value: 0.618181818181818.\n"
          ]
        },
        {
          "output_type": "stream",
          "name": "stdout",
          "text": [
            "\n",
            "All scores [0.9090909090909091, 0.45454545454545453, 0.5454545454545454, 0.45454545454545453, 0.7272727272727273, 0.5454545454545454, 0.7272727272727273, 0.9090909090909091, 0.45454545454545453, 0.2727272727272727]\n",
            "Minimum Accuracy: 27.27272727272727\n",
            "Maximum Accuracy: 90.9090909090909\n",
            "Average accuracy is  59.999999999999986\n",
            "\n",
            "Next trial starts--------------\n",
            "\n"
          ]
        },
        {
          "output_type": "stream",
          "name": "stderr",
          "text": [
            "[I 2023-08-18 12:31:47,828] Trial 13 finished with value: 0.5181818181818181 and parameters: {'n_estimators': 375, 'max_depth': 6, 'random_state': 80, 'criterion': 'gini', 'max_features': 0.7182611822779628}. Best is trial 3 with value: 0.618181818181818.\n"
          ]
        },
        {
          "output_type": "stream",
          "name": "stdout",
          "text": [
            "\n",
            "All scores [0.8181818181818182, 0.45454545454545453, 0.45454545454545453, 0.36363636363636365, 0.6363636363636364, 0.45454545454545453, 0.6363636363636364, 0.6363636363636364, 0.36363636363636365, 0.36363636363636365]\n",
            "Minimum Accuracy: 36.36363636363637\n",
            "Maximum Accuracy: 81.81818181818183\n",
            "Average accuracy is  51.818181818181806\n",
            "\n",
            "Next trial starts--------------\n",
            "\n"
          ]
        },
        {
          "output_type": "stream",
          "name": "stderr",
          "text": [
            "[I 2023-08-18 12:31:56,546] Trial 14 finished with value: 0.5181818181818182 and parameters: {'n_estimators': 495, 'max_depth': 8, 'random_state': 110, 'criterion': 'gini', 'max_features': 0.5778430815845627}. Best is trial 3 with value: 0.618181818181818.\n"
          ]
        },
        {
          "output_type": "stream",
          "name": "stdout",
          "text": [
            "\n",
            "All scores [0.8181818181818182, 0.45454545454545453, 0.45454545454545453, 0.36363636363636365, 0.6363636363636364, 0.36363636363636365, 0.7272727272727273, 0.6363636363636364, 0.2727272727272727, 0.45454545454545453]\n",
            "Minimum Accuracy: 27.27272727272727\n",
            "Maximum Accuracy: 81.81818181818183\n",
            "Average accuracy is  51.81818181818182\n",
            "\n",
            "Next trial starts--------------\n",
            "\n"
          ]
        },
        {
          "output_type": "stream",
          "name": "stderr",
          "text": [
            "[I 2023-08-18 12:32:03,570] Trial 15 finished with value: 0.5909090909090908 and parameters: {'n_estimators': 345, 'max_depth': 3, 'random_state': 90, 'criterion': 'gini', 'max_features': 0.8069637624540047}. Best is trial 3 with value: 0.618181818181818.\n"
          ]
        },
        {
          "output_type": "stream",
          "name": "stdout",
          "text": [
            "\n",
            "All scores [0.8181818181818182, 0.45454545454545453, 0.5454545454545454, 0.45454545454545453, 0.7272727272727273, 0.5454545454545454, 0.7272727272727273, 0.9090909090909091, 0.45454545454545453, 0.2727272727272727]\n",
            "Minimum Accuracy: 27.27272727272727\n",
            "Maximum Accuracy: 90.9090909090909\n",
            "Average accuracy is  59.09090909090908\n",
            "\n",
            "Next trial starts--------------\n",
            "\n"
          ]
        },
        {
          "output_type": "stream",
          "name": "stderr",
          "text": [
            "[I 2023-08-18 12:32:11,491] Trial 16 finished with value: 0.49090909090909085 and parameters: {'n_estimators': 435, 'max_depth': 13, 'random_state': 70, 'criterion': 'gini', 'max_features': 0.6323517463487099}. Best is trial 3 with value: 0.618181818181818.\n"
          ]
        },
        {
          "output_type": "stream",
          "name": "stdout",
          "text": [
            "\n",
            "All scores [0.7272727272727273, 0.45454545454545453, 0.45454545454545453, 0.36363636363636365, 0.5454545454545454, 0.36363636363636365, 0.7272727272727273, 0.5454545454545454, 0.2727272727272727, 0.45454545454545453]\n",
            "Minimum Accuracy: 27.27272727272727\n",
            "Maximum Accuracy: 72.72727272727273\n",
            "Average accuracy is  49.090909090909086\n",
            "\n",
            "Next trial starts--------------\n",
            "\n"
          ]
        },
        {
          "output_type": "stream",
          "name": "stderr",
          "text": [
            "[I 2023-08-18 12:32:15,194] Trial 17 finished with value: 0.5545454545454545 and parameters: {'n_estimators': 225, 'max_depth': 5, 'random_state': 90, 'criterion': 'gini', 'max_features': 0.8656871485072057}. Best is trial 3 with value: 0.618181818181818.\n"
          ]
        },
        {
          "output_type": "stream",
          "name": "stdout",
          "text": [
            "\n",
            "All scores [0.8181818181818182, 0.5454545454545454, 0.45454545454545453, 0.45454545454545453, 0.7272727272727273, 0.45454545454545453, 0.6363636363636364, 0.7272727272727273, 0.36363636363636365, 0.36363636363636365]\n",
            "Minimum Accuracy: 36.36363636363637\n",
            "Maximum Accuracy: 81.81818181818183\n",
            "Average accuracy is  55.454545454545446\n",
            "\n",
            "Next trial starts--------------\n",
            "\n"
          ]
        },
        {
          "output_type": "stream",
          "name": "stderr",
          "text": [
            "[I 2023-08-18 12:32:24,651] Trial 18 finished with value: 0.5181818181818182 and parameters: {'n_estimators': 445, 'max_depth': 9, 'random_state': 50, 'criterion': 'gini', 'max_features': 0.47649475680253667}. Best is trial 3 with value: 0.618181818181818.\n"
          ]
        },
        {
          "output_type": "stream",
          "name": "stdout",
          "text": [
            "\n",
            "All scores [0.8181818181818182, 0.45454545454545453, 0.45454545454545453, 0.36363636363636365, 0.6363636363636364, 0.36363636363636365, 0.7272727272727273, 0.6363636363636364, 0.2727272727272727, 0.45454545454545453]\n",
            "Minimum Accuracy: 27.27272727272727\n",
            "Maximum Accuracy: 81.81818181818183\n",
            "Average accuracy is  51.81818181818182\n",
            "\n",
            "Next trial starts--------------\n",
            "\n"
          ]
        },
        {
          "output_type": "stream",
          "name": "stderr",
          "text": [
            "[I 2023-08-18 12:32:29,267] Trial 19 finished with value: 0.5454545454545454 and parameters: {'n_estimators': 285, 'max_depth': 5, 'random_state': 110, 'criterion': 'gini', 'max_features': 0.9910579100987236}. Best is trial 3 with value: 0.618181818181818.\n"
          ]
        },
        {
          "output_type": "stream",
          "name": "stdout",
          "text": [
            "\n",
            "All scores [0.8181818181818182, 0.5454545454545454, 0.45454545454545453, 0.36363636363636365, 0.7272727272727273, 0.45454545454545453, 0.7272727272727273, 0.7272727272727273, 0.36363636363636365, 0.2727272727272727]\n",
            "Minimum Accuracy: 27.27272727272727\n",
            "Maximum Accuracy: 81.81818181818183\n",
            "Average accuracy is  54.54545454545454\n",
            "\n",
            "Next trial starts--------------\n",
            "\n"
          ]
        },
        {
          "output_type": "stream",
          "name": "stderr",
          "text": [
            "[I 2023-08-18 12:32:37,504] Trial 20 finished with value: 0.509090909090909 and parameters: {'n_estimators': 365, 'max_depth': 15, 'random_state': 80, 'criterion': 'gini', 'max_features': 0.6797141499956523}. Best is trial 3 with value: 0.618181818181818.\n"
          ]
        },
        {
          "output_type": "stream",
          "name": "stdout",
          "text": [
            "\n",
            "All scores [0.9090909090909091, 0.45454545454545453, 0.45454545454545453, 0.36363636363636365, 0.5454545454545454, 0.36363636363636365, 0.7272727272727273, 0.6363636363636364, 0.2727272727272727, 0.36363636363636365]\n",
            "Minimum Accuracy: 27.27272727272727\n",
            "Maximum Accuracy: 90.9090909090909\n",
            "Average accuracy is  50.90909090909091\n",
            "\n",
            "Next trial starts--------------\n",
            "\n"
          ]
        },
        {
          "output_type": "stream",
          "name": "stderr",
          "text": [
            "[I 2023-08-18 12:32:44,509] Trial 21 finished with value: 0.5999999999999999 and parameters: {'n_estimators': 455, 'max_depth': 3, 'random_state': 110, 'criterion': 'gini', 'max_features': 0.946136170586469}. Best is trial 3 with value: 0.618181818181818.\n"
          ]
        },
        {
          "output_type": "stream",
          "name": "stdout",
          "text": [
            "\n",
            "All scores [0.9090909090909091, 0.45454545454545453, 0.5454545454545454, 0.45454545454545453, 0.7272727272727273, 0.5454545454545454, 0.7272727272727273, 0.9090909090909091, 0.45454545454545453, 0.2727272727272727]\n",
            "Minimum Accuracy: 27.27272727272727\n",
            "Maximum Accuracy: 90.9090909090909\n",
            "Average accuracy is  59.999999999999986\n",
            "\n",
            "Next trial starts--------------\n",
            "\n"
          ]
        },
        {
          "output_type": "stream",
          "name": "stderr",
          "text": [
            "[I 2023-08-18 12:32:55,971] Trial 22 finished with value: 0.5818181818181818 and parameters: {'n_estimators': 405, 'max_depth': 4, 'random_state': 100, 'criterion': 'gini', 'max_features': 0.8120248577748497}. Best is trial 3 with value: 0.618181818181818.\n"
          ]
        },
        {
          "output_type": "stream",
          "name": "stdout",
          "text": [
            "\n",
            "All scores [0.9090909090909091, 0.5454545454545454, 0.45454545454545453, 0.45454545454545453, 0.7272727272727273, 0.45454545454545453, 0.7272727272727273, 0.9090909090909091, 0.36363636363636365, 0.2727272727272727]\n",
            "Minimum Accuracy: 27.27272727272727\n",
            "Maximum Accuracy: 90.9090909090909\n",
            "Average accuracy is  58.18181818181818\n",
            "\n",
            "Next trial starts--------------\n",
            "\n"
          ]
        },
        {
          "output_type": "stream",
          "name": "stderr",
          "text": [
            "[I 2023-08-18 12:33:07,431] Trial 23 finished with value: 0.5181818181818182 and parameters: {'n_estimators': 325, 'max_depth': 8, 'random_state': 100, 'criterion': 'gini', 'max_features': 0.9555041258451131}. Best is trial 3 with value: 0.618181818181818.\n"
          ]
        },
        {
          "output_type": "stream",
          "name": "stdout",
          "text": [
            "\n",
            "All scores [0.8181818181818182, 0.45454545454545453, 0.45454545454545453, 0.36363636363636365, 0.6363636363636364, 0.36363636363636365, 0.7272727272727273, 0.6363636363636364, 0.2727272727272727, 0.45454545454545453]\n",
            "Minimum Accuracy: 27.27272727272727\n",
            "Maximum Accuracy: 81.81818181818183\n",
            "Average accuracy is  51.81818181818182\n",
            "\n",
            "Next trial starts--------------\n",
            "\n"
          ]
        },
        {
          "output_type": "stream",
          "name": "stderr",
          "text": [
            "[I 2023-08-18 12:33:21,331] Trial 24 finished with value: 0.5454545454545454 and parameters: {'n_estimators': 475, 'max_depth': 5, 'random_state': 80, 'criterion': 'gini', 'max_features': 0.8437782303975782}. Best is trial 3 with value: 0.618181818181818.\n"
          ]
        },
        {
          "output_type": "stream",
          "name": "stdout",
          "text": [
            "\n",
            "All scores [0.8181818181818182, 0.5454545454545454, 0.45454545454545453, 0.36363636363636365, 0.7272727272727273, 0.45454545454545453, 0.6363636363636364, 0.7272727272727273, 0.36363636363636365, 0.36363636363636365]\n",
            "Minimum Accuracy: 36.36363636363637\n",
            "Maximum Accuracy: 81.81818181818183\n",
            "Average accuracy is  54.54545454545454\n",
            "\n",
            "Next trial starts--------------\n",
            "\n"
          ]
        },
        {
          "output_type": "stream",
          "name": "stderr",
          "text": [
            "[I 2023-08-18 12:33:29,125] Trial 25 finished with value: 0.5272727272727272 and parameters: {'n_estimators': 395, 'max_depth': 7, 'random_state': 110, 'criterion': 'gini', 'max_features': 0.9906773013293492}. Best is trial 3 with value: 0.618181818181818.\n"
          ]
        },
        {
          "output_type": "stream",
          "name": "stdout",
          "text": [
            "\n",
            "All scores [0.8181818181818182, 0.45454545454545453, 0.45454545454545453, 0.36363636363636365, 0.6363636363636364, 0.45454545454545453, 0.7272727272727273, 0.7272727272727273, 0.2727272727272727, 0.36363636363636365]\n",
            "Minimum Accuracy: 27.27272727272727\n",
            "Maximum Accuracy: 81.81818181818183\n",
            "Average accuracy is  52.72727272727272\n",
            "\n",
            "Next trial starts--------------\n",
            "\n"
          ]
        },
        {
          "output_type": "stream",
          "name": "stderr",
          "text": [
            "[I 2023-08-18 12:33:42,347] Trial 26 finished with value: 0.5 and parameters: {'n_estimators': 425, 'max_depth': 20, 'random_state': 100, 'criterion': 'gini', 'max_features': 0.7966419109138294}. Best is trial 3 with value: 0.618181818181818.\n"
          ]
        },
        {
          "output_type": "stream",
          "name": "stdout",
          "text": [
            "\n",
            "All scores [0.7272727272727273, 0.45454545454545453, 0.45454545454545453, 0.36363636363636365, 0.5454545454545454, 0.36363636363636365, 0.7272727272727273, 0.6363636363636364, 0.2727272727272727, 0.45454545454545453]\n",
            "Minimum Accuracy: 27.27272727272727\n",
            "Maximum Accuracy: 72.72727272727273\n",
            "Average accuracy is  50.0\n",
            "\n",
            "Next trial starts--------------\n",
            "\n"
          ]
        },
        {
          "output_type": "stream",
          "name": "stderr",
          "text": [
            "[I 2023-08-18 12:33:53,913] Trial 27 finished with value: 0.5545454545454546 and parameters: {'n_estimators': 465, 'max_depth': 4, 'random_state': 60, 'criterion': 'gini', 'max_features': 0.9038109495380817}. Best is trial 3 with value: 0.618181818181818.\n"
          ]
        },
        {
          "output_type": "stream",
          "name": "stdout",
          "text": [
            "\n",
            "All scores [0.9090909090909091, 0.5454545454545454, 0.45454545454545453, 0.45454545454545453, 0.7272727272727273, 0.45454545454545453, 0.5454545454545454, 0.8181818181818182, 0.36363636363636365, 0.2727272727272727]\n",
            "Minimum Accuracy: 27.27272727272727\n",
            "Maximum Accuracy: 90.9090909090909\n",
            "Average accuracy is  55.45454545454545\n",
            "\n",
            "Next trial starts--------------\n",
            "\n"
          ]
        },
        {
          "output_type": "stream",
          "name": "stderr",
          "text": [
            "[I 2023-08-18 12:34:03,714] Trial 28 finished with value: 0.5181818181818182 and parameters: {'n_estimators': 305, 'max_depth': 11, 'random_state': 90, 'criterion': 'gini', 'max_features': 0.7714610124671692}. Best is trial 3 with value: 0.618181818181818.\n"
          ]
        },
        {
          "output_type": "stream",
          "name": "stdout",
          "text": [
            "\n",
            "All scores [0.8181818181818182, 0.45454545454545453, 0.45454545454545453, 0.36363636363636365, 0.5454545454545454, 0.36363636363636365, 0.8181818181818182, 0.6363636363636364, 0.2727272727272727, 0.45454545454545453]\n",
            "Minimum Accuracy: 27.27272727272727\n",
            "Maximum Accuracy: 81.81818181818183\n",
            "Average accuracy is  51.81818181818182\n",
            "\n",
            "Next trial starts--------------\n",
            "\n"
          ]
        },
        {
          "output_type": "stream",
          "name": "stderr",
          "text": [
            "[I 2023-08-18 12:34:16,107] Trial 29 finished with value: 0.49090909090909085 and parameters: {'n_estimators': 355, 'max_depth': 13, 'random_state': 70, 'criterion': 'gini', 'max_features': 0.7080084176765744}. Best is trial 3 with value: 0.618181818181818.\n"
          ]
        },
        {
          "output_type": "stream",
          "name": "stdout",
          "text": [
            "\n",
            "All scores [0.8181818181818182, 0.45454545454545453, 0.45454545454545453, 0.36363636363636365, 0.5454545454545454, 0.36363636363636365, 0.6363636363636364, 0.5454545454545454, 0.2727272727272727, 0.45454545454545453]\n",
            "Minimum Accuracy: 27.27272727272727\n",
            "Maximum Accuracy: 81.81818181818183\n",
            "Average accuracy is  49.090909090909086\n",
            "\n",
            "Next trial starts--------------\n",
            "\n"
          ]
        },
        {
          "output_type": "stream",
          "name": "stderr",
          "text": [
            "[I 2023-08-18 12:34:22,049] Trial 30 finished with value: 0.5818181818181818 and parameters: {'n_estimators': 195, 'max_depth': 4, 'random_state': 50, 'criterion': 'gini', 'max_features': 0.9131400245501728}. Best is trial 3 with value: 0.618181818181818.\n"
          ]
        },
        {
          "output_type": "stream",
          "name": "stdout",
          "text": [
            "\n",
            "All scores [0.9090909090909091, 0.5454545454545454, 0.45454545454545453, 0.45454545454545453, 0.8181818181818182, 0.36363636363636365, 0.7272727272727273, 0.9090909090909091, 0.36363636363636365, 0.2727272727272727]\n",
            "Minimum Accuracy: 27.27272727272727\n",
            "Maximum Accuracy: 90.9090909090909\n",
            "Average accuracy is  58.18181818181818\n",
            "\n",
            "Next trial starts--------------\n",
            "\n"
          ]
        },
        {
          "output_type": "stream",
          "name": "stderr",
          "text": [
            "[I 2023-08-18 12:34:34,231] Trial 31 finished with value: 0.5999999999999999 and parameters: {'n_estimators': 455, 'max_depth': 3, 'random_state': 110, 'criterion': 'gini', 'max_features': 0.9364913866740865}. Best is trial 3 with value: 0.618181818181818.\n"
          ]
        },
        {
          "output_type": "stream",
          "name": "stdout",
          "text": [
            "\n",
            "All scores [0.9090909090909091, 0.45454545454545453, 0.5454545454545454, 0.45454545454545453, 0.7272727272727273, 0.5454545454545454, 0.7272727272727273, 0.9090909090909091, 0.45454545454545453, 0.2727272727272727]\n",
            "Minimum Accuracy: 27.27272727272727\n",
            "Maximum Accuracy: 90.9090909090909\n",
            "Average accuracy is  59.999999999999986\n",
            "\n",
            "Next trial starts--------------\n",
            "\n"
          ]
        },
        {
          "output_type": "stream",
          "name": "stderr",
          "text": [
            "[I 2023-08-18 12:34:41,931] Trial 32 finished with value: 0.5999999999999999 and parameters: {'n_estimators': 425, 'max_depth': 3, 'random_state': 110, 'criterion': 'gini', 'max_features': 0.8463059885772231}. Best is trial 3 with value: 0.618181818181818.\n"
          ]
        },
        {
          "output_type": "stream",
          "name": "stdout",
          "text": [
            "\n",
            "All scores [0.9090909090909091, 0.45454545454545453, 0.5454545454545454, 0.45454545454545453, 0.7272727272727273, 0.5454545454545454, 0.7272727272727273, 0.9090909090909091, 0.45454545454545453, 0.2727272727272727]\n",
            "Minimum Accuracy: 27.27272727272727\n",
            "Maximum Accuracy: 90.9090909090909\n",
            "Average accuracy is  59.999999999999986\n",
            "\n",
            "Next trial starts--------------\n",
            "\n"
          ]
        },
        {
          "output_type": "stream",
          "name": "stderr",
          "text": [
            "[I 2023-08-18 12:34:52,002] Trial 33 finished with value: 0.5818181818181818 and parameters: {'n_estimators': 475, 'max_depth': 4, 'random_state': 100, 'criterion': 'gini', 'max_features': 0.9879727099020139}. Best is trial 3 with value: 0.618181818181818.\n"
          ]
        },
        {
          "output_type": "stream",
          "name": "stdout",
          "text": [
            "\n",
            "All scores [0.9090909090909091, 0.5454545454545454, 0.45454545454545453, 0.45454545454545453, 0.7272727272727273, 0.45454545454545453, 0.7272727272727273, 0.9090909090909091, 0.36363636363636365, 0.2727272727272727]\n",
            "Minimum Accuracy: 27.27272727272727\n",
            "Maximum Accuracy: 90.9090909090909\n",
            "Average accuracy is  58.18181818181818\n",
            "\n",
            "Next trial starts--------------\n",
            "\n"
          ]
        },
        {
          "output_type": "stream",
          "name": "stderr",
          "text": [
            "[I 2023-08-18 12:35:04,494] Trial 34 finished with value: 0.5909090909090908 and parameters: {'n_estimators': 385, 'max_depth': 3, 'random_state': 30, 'criterion': 'entropy', 'max_features': 0.9170567133218464}. Best is trial 3 with value: 0.618181818181818.\n"
          ]
        },
        {
          "output_type": "stream",
          "name": "stdout",
          "text": [
            "\n",
            "All scores [0.9090909090909091, 0.5454545454545454, 0.45454545454545453, 0.45454545454545453, 0.6363636363636364, 0.6363636363636364, 0.6363636363636364, 0.9090909090909091, 0.45454545454545453, 0.2727272727272727]\n",
            "Minimum Accuracy: 27.27272727272727\n",
            "Maximum Accuracy: 90.9090909090909\n",
            "Average accuracy is  59.09090909090908\n",
            "\n",
            "Next trial starts--------------\n",
            "\n"
          ]
        },
        {
          "output_type": "stream",
          "name": "stderr",
          "text": [
            "[I 2023-08-18 12:35:18,663] Trial 35 finished with value: 0.5181818181818181 and parameters: {'n_estimators': 505, 'max_depth': 7, 'random_state': 100, 'criterion': 'gini', 'max_features': 0.8570810780463423}. Best is trial 3 with value: 0.618181818181818.\n"
          ]
        },
        {
          "output_type": "stream",
          "name": "stdout",
          "text": [
            "\n",
            "All scores [0.8181818181818182, 0.45454545454545453, 0.45454545454545453, 0.36363636363636365, 0.6363636363636364, 0.45454545454545453, 0.6363636363636364, 0.6363636363636364, 0.2727272727272727, 0.45454545454545453]\n",
            "Minimum Accuracy: 27.27272727272727\n",
            "Maximum Accuracy: 81.81818181818183\n",
            "Average accuracy is  51.818181818181806\n",
            "\n",
            "Next trial starts--------------\n",
            "\n"
          ]
        },
        {
          "output_type": "stream",
          "name": "stderr",
          "text": [
            "[I 2023-08-18 12:35:27,776] Trial 36 finished with value: 0.5727272727272726 and parameters: {'n_estimators': 425, 'max_depth': 5, 'random_state': 110, 'criterion': 'entropy', 'max_features': 0.9333731060284756}. Best is trial 3 with value: 0.618181818181818.\n"
          ]
        },
        {
          "output_type": "stream",
          "name": "stdout",
          "text": [
            "\n",
            "All scores [0.8181818181818182, 0.5454545454545454, 0.45454545454545453, 0.45454545454545453, 0.7272727272727273, 0.45454545454545453, 0.7272727272727273, 0.8181818181818182, 0.36363636363636365, 0.36363636363636365]\n",
            "Minimum Accuracy: 36.36363636363637\n",
            "Maximum Accuracy: 81.81818181818183\n",
            "Average accuracy is  57.272727272727266\n",
            "\n",
            "Next trial starts--------------\n",
            "\n"
          ]
        },
        {
          "output_type": "stream",
          "name": "stderr",
          "text": [
            "[I 2023-08-18 12:35:37,815] Trial 37 finished with value: 0.5363636363636364 and parameters: {'n_estimators': 335, 'max_depth': 6, 'random_state': 90, 'criterion': 'gini', 'max_features': 0.9884169712968232}. Best is trial 3 with value: 0.618181818181818.\n"
          ]
        },
        {
          "output_type": "stream",
          "name": "stdout",
          "text": [
            "\n",
            "All scores [0.8181818181818182, 0.5454545454545454, 0.45454545454545453, 0.36363636363636365, 0.6363636363636364, 0.45454545454545453, 0.6363636363636364, 0.7272727272727273, 0.2727272727272727, 0.45454545454545453]\n",
            "Minimum Accuracy: 27.27272727272727\n",
            "Maximum Accuracy: 81.81818181818183\n",
            "Average accuracy is  53.63636363636364\n",
            "\n",
            "Next trial starts--------------\n",
            "\n"
          ]
        },
        {
          "output_type": "stream",
          "name": "stderr",
          "text": [
            "[I 2023-08-18 12:35:45,099] Trial 38 finished with value: 0.6363636363636364 and parameters: {'n_estimators': 245, 'max_depth': 3, 'random_state': 80, 'criterion': 'gini', 'max_features': 0.9070899202356064}. Best is trial 38 with value: 0.6363636363636364.\n"
          ]
        },
        {
          "output_type": "stream",
          "name": "stdout",
          "text": [
            "\n",
            "All scores [0.9090909090909091, 0.5454545454545454, 0.5454545454545454, 0.45454545454545453, 0.8181818181818182, 0.6363636363636364, 0.7272727272727273, 1.0, 0.45454545454545453, 0.2727272727272727]\n",
            "Minimum Accuracy: 27.27272727272727\n",
            "Maximum Accuracy: 100.0\n",
            "Average accuracy is  63.63636363636363\n",
            "\n",
            "Next trial starts--------------\n",
            "\n"
          ]
        },
        {
          "output_type": "stream",
          "name": "stderr",
          "text": [
            "[I 2023-08-18 12:35:51,548] Trial 39 finished with value: 0.5181818181818181 and parameters: {'n_estimators': 235, 'max_depth': 7, 'random_state': 30, 'criterion': 'entropy', 'max_features': 0.881767483818835}. Best is trial 38 with value: 0.6363636363636364.\n"
          ]
        },
        {
          "output_type": "stream",
          "name": "stdout",
          "text": [
            "\n",
            "All scores [0.9090909090909091, 0.45454545454545453, 0.45454545454545453, 0.36363636363636365, 0.6363636363636364, 0.45454545454545453, 0.6363636363636364, 0.6363636363636364, 0.2727272727272727, 0.36363636363636365]\n",
            "Minimum Accuracy: 27.27272727272727\n",
            "Maximum Accuracy: 90.9090909090909\n",
            "Average accuracy is  51.818181818181806\n",
            "\n",
            "Next trial starts--------------\n",
            "\n"
          ]
        },
        {
          "output_type": "stream",
          "name": "stderr",
          "text": [
            "[I 2023-08-18 12:35:56,065] Trial 40 finished with value: 0.509090909090909 and parameters: {'n_estimators': 275, 'max_depth': 10, 'random_state': 80, 'criterion': 'gini', 'max_features': 0.7897660198863966}. Best is trial 38 with value: 0.6363636363636364.\n"
          ]
        },
        {
          "output_type": "stream",
          "name": "stdout",
          "text": [
            "\n",
            "All scores [0.8181818181818182, 0.45454545454545453, 0.45454545454545453, 0.36363636363636365, 0.5454545454545454, 0.36363636363636365, 0.7272727272727273, 0.7272727272727273, 0.2727272727272727, 0.36363636363636365]\n",
            "Minimum Accuracy: 27.27272727272727\n",
            "Maximum Accuracy: 81.81818181818183\n",
            "Average accuracy is  50.90909090909091\n",
            "\n",
            "Next trial starts--------------\n",
            "\n"
          ]
        },
        {
          "output_type": "stream",
          "name": "stderr",
          "text": [
            "[I 2023-08-18 12:35:59,282] Trial 41 finished with value: 0.5909090909090908 and parameters: {'n_estimators': 185, 'max_depth': 3, 'random_state': 100, 'criterion': 'gini', 'max_features': 0.9355934770908428}. Best is trial 38 with value: 0.6363636363636364.\n"
          ]
        },
        {
          "output_type": "stream",
          "name": "stdout",
          "text": [
            "\n",
            "All scores [0.8181818181818182, 0.45454545454545453, 0.5454545454545454, 0.45454545454545453, 0.6363636363636364, 0.5454545454545454, 0.7272727272727273, 1.0, 0.45454545454545453, 0.2727272727272727]\n",
            "Minimum Accuracy: 27.27272727272727\n",
            "Maximum Accuracy: 100.0\n",
            "Average accuracy is  59.09090909090908\n",
            "\n",
            "Next trial starts--------------\n",
            "\n"
          ]
        },
        {
          "output_type": "stream",
          "name": "stderr",
          "text": [
            "[I 2023-08-18 12:36:03,079] Trial 42 finished with value: 0.5454545454545454 and parameters: {'n_estimators': 135, 'max_depth': 4, 'random_state': 70, 'criterion': 'gini', 'max_features': 0.879230553464849}. Best is trial 38 with value: 0.6363636363636364.\n"
          ]
        },
        {
          "output_type": "stream",
          "name": "stdout",
          "text": [
            "\n",
            "All scores [0.8181818181818182, 0.5454545454545454, 0.45454545454545453, 0.36363636363636365, 0.7272727272727273, 0.45454545454545453, 0.7272727272727273, 0.7272727272727273, 0.36363636363636365, 0.2727272727272727]\n",
            "Minimum Accuracy: 27.27272727272727\n",
            "Maximum Accuracy: 81.81818181818183\n",
            "Average accuracy is  54.54545454545454\n",
            "\n",
            "Next trial starts--------------\n",
            "\n"
          ]
        },
        {
          "output_type": "stream",
          "name": "stderr",
          "text": [
            "[I 2023-08-18 12:36:10,089] Trial 43 finished with value: 0.5454545454545454 and parameters: {'n_estimators': 405, 'max_depth': 5, 'random_state': 40, 'criterion': 'gini', 'max_features': 0.9513466771767414}. Best is trial 38 with value: 0.6363636363636364.\n"
          ]
        },
        {
          "output_type": "stream",
          "name": "stdout",
          "text": [
            "\n",
            "All scores [0.8181818181818182, 0.5454545454545454, 0.45454545454545453, 0.36363636363636365, 0.6363636363636364, 0.45454545454545453, 0.6363636363636364, 0.7272727272727273, 0.36363636363636365, 0.45454545454545453]\n",
            "Minimum Accuracy: 36.36363636363637\n",
            "Maximum Accuracy: 81.81818181818183\n",
            "Average accuracy is  54.54545454545454\n",
            "\n",
            "Next trial starts--------------\n",
            "\n"
          ]
        },
        {
          "output_type": "stream",
          "name": "stderr",
          "text": [
            "[I 2023-08-18 12:36:11,531] Trial 44 finished with value: 0.5818181818181818 and parameters: {'n_estimators': 85, 'max_depth': 3, 'random_state': 90, 'criterion': 'gini', 'max_features': 0.9959502279533313}. Best is trial 38 with value: 0.6363636363636364.\n"
          ]
        },
        {
          "output_type": "stream",
          "name": "stdout",
          "text": [
            "\n",
            "All scores [0.8181818181818182, 0.45454545454545453, 0.5454545454545454, 0.36363636363636365, 0.6363636363636364, 0.5454545454545454, 0.7272727272727273, 0.9090909090909091, 0.45454545454545453, 0.36363636363636365]\n",
            "Minimum Accuracy: 36.36363636363637\n",
            "Maximum Accuracy: 90.9090909090909\n",
            "Average accuracy is  58.18181818181818\n",
            "\n",
            "Next trial starts--------------\n",
            "\n"
          ]
        },
        {
          "output_type": "stream",
          "name": "stderr",
          "text": [
            "[I 2023-08-18 12:36:23,619] Trial 45 finished with value: 0.5727272727272726 and parameters: {'n_estimators': 485, 'max_depth': 4, 'random_state': 110, 'criterion': 'entropy', 'max_features': 0.9031249624317557}. Best is trial 38 with value: 0.6363636363636364.\n"
          ]
        },
        {
          "output_type": "stream",
          "name": "stdout",
          "text": [
            "\n",
            "All scores [0.9090909090909091, 0.45454545454545453, 0.45454545454545453, 0.45454545454545453, 0.8181818181818182, 0.45454545454545453, 0.6363636363636364, 0.9090909090909091, 0.36363636363636365, 0.2727272727272727]\n",
            "Minimum Accuracy: 27.27272727272727\n",
            "Maximum Accuracy: 90.9090909090909\n",
            "Average accuracy is  57.272727272727266\n",
            "\n",
            "Next trial starts--------------\n",
            "\n"
          ]
        },
        {
          "output_type": "stream",
          "name": "stderr",
          "text": [
            "[I 2023-08-18 12:36:29,865] Trial 46 finished with value: 0.5181818181818182 and parameters: {'n_estimators': 245, 'max_depth': 6, 'random_state': 60, 'criterion': 'gini', 'max_features': 0.7407846417644544}. Best is trial 38 with value: 0.6363636363636364.\n"
          ]
        },
        {
          "output_type": "stream",
          "name": "stdout",
          "text": [
            "\n",
            "All scores [0.9090909090909091, 0.45454545454545453, 0.45454545454545453, 0.36363636363636365, 0.6363636363636364, 0.45454545454545453, 0.7272727272727273, 0.6363636363636364, 0.2727272727272727, 0.2727272727272727]\n",
            "Minimum Accuracy: 27.27272727272727\n",
            "Maximum Accuracy: 90.9090909090909\n",
            "Average accuracy is  51.81818181818182\n",
            "\n",
            "Next trial starts--------------\n",
            "\n"
          ]
        },
        {
          "output_type": "stream",
          "name": "stderr",
          "text": [
            "[I 2023-08-18 12:36:38,863] Trial 47 finished with value: 0.5999999999999999 and parameters: {'n_estimators': 205, 'max_depth': 3, 'random_state': 80, 'criterion': 'gini', 'max_features': 0.8262704534814784}. Best is trial 38 with value: 0.6363636363636364.\n"
          ]
        },
        {
          "output_type": "stream",
          "name": "stdout",
          "text": [
            "\n",
            "All scores [0.8181818181818182, 0.45454545454545453, 0.45454545454545453, 0.45454545454545453, 0.8181818181818182, 0.5454545454545454, 0.7272727272727273, 1.0, 0.45454545454545453, 0.2727272727272727]\n",
            "Minimum Accuracy: 27.27272727272727\n",
            "Maximum Accuracy: 100.0\n",
            "Average accuracy is  59.999999999999986\n",
            "\n",
            "Next trial starts--------------\n",
            "\n"
          ]
        },
        {
          "output_type": "stream",
          "name": "stderr",
          "text": [
            "[I 2023-08-18 12:36:45,926] Trial 48 finished with value: 0.5363636363636364 and parameters: {'n_estimators': 445, 'max_depth': 6, 'random_state': 100, 'criterion': 'gini', 'max_features': 0.7556631053379473}. Best is trial 38 with value: 0.6363636363636364.\n"
          ]
        },
        {
          "output_type": "stream",
          "name": "stdout",
          "text": [
            "\n",
            "All scores [0.8181818181818182, 0.45454545454545453, 0.45454545454545453, 0.36363636363636365, 0.6363636363636364, 0.45454545454545453, 0.6363636363636364, 0.8181818181818182, 0.2727272727272727, 0.45454545454545453]\n",
            "Minimum Accuracy: 27.27272727272727\n",
            "Maximum Accuracy: 81.81818181818183\n",
            "Average accuracy is  53.63636363636364\n",
            "\n",
            "Next trial starts--------------\n",
            "\n"
          ]
        },
        {
          "output_type": "stream",
          "name": "stderr",
          "text": [
            "[I 2023-08-18 12:36:53,152] Trial 49 finished with value: 0.5545454545454545 and parameters: {'n_estimators': 305, 'max_depth': 5, 'random_state': 20, 'criterion': 'entropy', 'max_features': 0.8705420438249954}. Best is trial 38 with value: 0.6363636363636364.\n"
          ]
        },
        {
          "output_type": "stream",
          "name": "stdout",
          "text": [
            "\n",
            "All scores [0.9090909090909091, 0.5454545454545454, 0.45454545454545453, 0.36363636363636365, 0.6363636363636364, 0.45454545454545453, 0.6363636363636364, 0.8181818181818182, 0.36363636363636365, 0.36363636363636365]\n",
            "Minimum Accuracy: 36.36363636363637\n",
            "Maximum Accuracy: 90.9090909090909\n",
            "Average accuracy is  55.454545454545446\n",
            "\n",
            "Next trial starts--------------\n",
            "\n",
            "\n",
            "Best trial: FrozenTrial(number=38, state=TrialState.COMPLETE, values=[0.6363636363636364], datetime_start=datetime.datetime(2023, 8, 18, 12, 35, 37, 818400), datetime_complete=datetime.datetime(2023, 8, 18, 12, 35, 45, 98939), params={'n_estimators': 245, 'max_depth': 3, 'random_state': 80, 'criterion': 'gini', 'max_features': 0.9070899202356064}, user_attrs={}, system_attrs={}, intermediate_values={}, distributions={'n_estimators': IntDistribution(high=505, log=False, low=5, step=10), 'max_depth': IntDistribution(high=20, log=False, low=3, step=1), 'random_state': IntDistribution(high=110, log=False, low=0, step=10), 'criterion': CategoricalDistribution(choices=('gini', 'entropy')), 'max_features': FloatDistribution(high=1.0, log=False, low=0.01, step=None)}, trial_id=38, value=None)\n",
            "\n",
            "Best parameter for RF is {'n_estimators': 245, 'max_depth': 3, 'random_state': 80, 'criterion': 'gini', 'max_features': 0.9070899202356064}\n"
          ]
        }
      ],
      "source": [
        "#Optuna\n",
        "\n",
        "optimization_function = partial(\n",
        "    optimize_2,\n",
        "    x=X,\n",
        "    y=y\n",
        ")\n",
        "\n",
        "study = optuna.create_study(direction= \"maximize\")\n",
        "study.optimize(optimization_function, n_trials = 50 )\n",
        "optimal_param = study.best_params\n",
        "best_trial = study.best_trial\n",
        "print(\"\\nBest trial:\",best_trial)\n",
        "print(\"\\nBest parameter for RF is\",optimal_param)"
      ],
      "id": "75fd8e46"
    },
    {
      "cell_type": "markdown",
      "source": [
        "**Parameter tuning Observation:**\n",
        "\n",
        "(*All using the same parameter ranges; SKF shuffle = False)\n",
        "\n",
        "    *   Attained the highest accuracy when using Optuna, also considering the average score and computation time when compared against Grid Search.\n",
        "    *   Hyperopt - Run Time: 06:19 ; Max avg score: 61.8\n",
        "    *   Optuna - Run Time:  ; Max avg score: 63.63\n",
        "    *   GridSearch - Run Time: ;Max avg score:\n",
        "\n",
        "\n",
        "\n",
        "\n",
        "\n"
      ],
      "metadata": {
        "id": "N7kSu0-pVmLc"
      },
      "id": "N7kSu0-pVmLc"
    },
    {
      "cell_type": "markdown",
      "source": [
        "# **Cross-Validation after Paramter Tuning:**\n",
        "\n",
        "To identify the test and training set Indices\n",
        "\n",
        "\n",
        "\n",
        "\n",
        "\n"
      ],
      "metadata": {
        "id": "-eCJkIREfdNj"
      },
      "id": "-eCJkIREfdNj"
    },
    {
      "cell_type": "code",
      "source": [
        "skf = StratifiedKFold(n_splits=10, shuffle=True)\n",
        "rf_model = RandomForestClassifier(**optimal_param)\n",
        "max_score = 0\n",
        "scores_1 = []\n",
        "\n",
        "\n",
        "for fold_idx, (train_idx, test_idx) in enumerate(skf.split(X, y)):\n",
        "    X_train, X_test = X.iloc[train_idx], X.iloc[test_idx]\n",
        "    y_train, y_test = y[train_idx], y[test_idx]\n",
        "    rf_model.fit(X_train, y_train)\n",
        "    y_pred = rf_model.predict(X_test)\n",
        "    fold_score = accuracy_score(y_test, y_pred)\n",
        "    scores_1.append(accuracy_score(y_test, y_pred))\n",
        "\n",
        "    if fold_score > max_score:\n",
        "        max_score = fold_score\n",
        "        best_train_idx = train_idx\n",
        "        best_test_idx = test_idx\n",
        "\n",
        "print(\"\\nAll scores\", scores_1)\n",
        "print(\"Minimun Accuracy:\", min(scores_1)*100)\n",
        "print(\"Maximum Accuracy:\", max(scores_1)*100)\n",
        "print(\"Average Accuracy:\", np.mean(scores_1)*100,\"\\n\")"
      ],
      "metadata": {
        "colab": {
          "base_uri": "https://localhost:8080/"
        },
        "id": "exsGSb8hbWrx",
        "outputId": "163574ce-35d0-4fef-c0f1-588c4fae5600"
      },
      "id": "exsGSb8hbWrx",
      "execution_count": 152,
      "outputs": [
        {
          "output_type": "stream",
          "name": "stdout",
          "text": [
            "\n",
            "All scores [0.18181818181818182, 0.36363636363636365, 0.45454545454545453, 0.9090909090909091, 0.6363636363636364, 0.36363636363636365, 0.6363636363636364, 0.45454545454545453, 0.6363636363636364, 0.6363636363636364]\n",
            "Minimun Accuracy: 18.181818181818183\n",
            "Maximum Accuracy: 90.9090909090909\n",
            "Average Accuracy: 52.727272727272734 \n",
            "\n"
          ]
        }
      ]
    },
    {
      "cell_type": "markdown",
      "source": [
        "# **REFITTING for RF:**\n",
        "\n",
        "Reproducing the best score"
      ],
      "metadata": {
        "id": "Ztn7qTVFmVsw"
      },
      "id": "Ztn7qTVFmVsw"
    },
    {
      "cell_type": "code",
      "source": [
        "#refitting using parameter and best hyper parameters\n",
        "refit_X_train, refit_X_test, refit_y_train, refit_y_test = X.iloc[best_train_idx], X.iloc[best_test_idx], y[best_train_idx], y[best_test_idx]\n",
        "rf_model.fit(refit_X_train, refit_y_train)\n",
        "refit_y_pred = rf_model.predict(refit_X_test)\n",
        "refit_score = accuracy_score(refit_y_test, refit_y_pred)\n",
        "\n",
        "\n",
        "print(\"Improved RF accuracy from refitted model:\", refit_score*100,\"%\")\n",
        "print(\"\\nClassification Report: \\n\", classification_report(refit_y_test,refit_y_pred))"
      ],
      "metadata": {
        "colab": {
          "base_uri": "https://localhost:8080/"
        },
        "id": "PHvRSZjCb12a",
        "outputId": "ee405c98-5a0b-44eb-9ee7-eef7b166b78c"
      },
      "id": "PHvRSZjCb12a",
      "execution_count": 153,
      "outputs": [
        {
          "output_type": "stream",
          "name": "stdout",
          "text": [
            "Improved RF accuracy from refitted model: 90.9090909090909 %\n",
            "\n",
            "Classification Report: \n",
            "               precision    recall  f1-score   support\n",
            "\n",
            "           0       1.00      0.83      0.91         6\n",
            "           1       0.83      1.00      0.91         5\n",
            "\n",
            "    accuracy                           0.91        11\n",
            "   macro avg       0.92      0.92      0.91        11\n",
            "weighted avg       0.92      0.91      0.91        11\n",
            "\n"
          ]
        }
      ]
    },
    {
      "cell_type": "code",
      "source": [
        "#LGBM traning and score without hyperparameter tuning and rs 100\n",
        "X_train, X_test, y_train, y_test = train_test_split(X, y, test_size = 0.2, random_state=100 )\n",
        "lgbm_model = LGBMClassifier(verbose = -1)\n",
        "lgbm_model.fit(X_train, y_train)\n",
        "y_pred = lgbm_model.predict(X_test)\n",
        "acc = accuracy_score(y_test, y_pred)\n",
        "\n",
        "\n",
        "print(\"lgbm accuracy:\", acc*100,\"%\")\n",
        "print(\"\\nClassification Report: \\n\", classification_report(refit_y_test,refit_y_pred))"
      ],
      "metadata": {
        "colab": {
          "base_uri": "https://localhost:8080/"
        },
        "id": "xgC81_IukMvr",
        "outputId": "ffc3cb31-693c-424d-d73c-6a4ad4da0208"
      },
      "id": "xgC81_IukMvr",
      "execution_count": 154,
      "outputs": [
        {
          "output_type": "stream",
          "name": "stdout",
          "text": [
            "lgbm accuracy: 77.27272727272727 %\n",
            "\n",
            "Classification Report: \n",
            "               precision    recall  f1-score   support\n",
            "\n",
            "           0       1.00      0.83      0.91         6\n",
            "           1       0.83      1.00      0.91         5\n",
            "\n",
            "    accuracy                           0.91        11\n",
            "   macro avg       0.92      0.92      0.91        11\n",
            "weighted avg       0.92      0.91      0.91        11\n",
            "\n"
          ]
        }
      ]
    },
    {
      "cell_type": "markdown",
      "source": [
        "**Obtained an accuracy higher than 73% for both chosen models. In the case of Random Forest (RF), the highest accuracy of 90.9% was attained following hyperparameter tuning and model refitting. As for LightGBM (LGBM), an accuracy of 77.27% was achieved with a random state value of 100.**\n"
      ],
      "metadata": {
        "id": "1r94o7yf1pMs"
      },
      "id": "1r94o7yf1pMs"
    },
    {
      "cell_type": "markdown",
      "source": [
        "# **Feature Importance:**\n",
        "\n",
        "The following plots provide insights into the feature importance for two classifiers: RandomForest and LGBM.\n",
        "\n",
        "1. In the case of LGBMClassifier, the most crucial features for predicting the target are X5 and X1. This suggests that customer happiness is influenced by satisfaction with courier service and timely delivery of products. On the other hand, features X3 and X4 hold the least importance, indicating that product availability and pricing have a minor role in predicting the outcome.\n",
        "2. When using RandomForestClassifier, the key features for predicting the target are X1, X3, and X6. This implies that on-time delivery, product availability, and user-friendly app usage are significant contributors to predicting customer happiness. On the other hand, features X4 and X5 have the least impact, meaning that order pricing and courier feedback play a lesser role in predicting the target\n",
        "3. Notably, both models identify X4 (Order pricing) as a feature with the least importance. This indicates that order pricing might not strongly influence customer happiness and could potentially be excluded from future surveys.\n",
        "\n"
      ],
      "metadata": {
        "id": "4PpUXCckwJfM"
      },
      "id": "4PpUXCckwJfM"
    },
    {
      "cell_type": "code",
      "source": [
        "fm_models = [lgbm_model,rf_model]\n",
        "\n",
        "for selected_model in fm_models:\n",
        "\n",
        "  importances = selected_model.feature_importances_\n",
        "  idxs = np.argsort(importances)\n",
        "  plt.title('Feature Importances')\n",
        "  plt.barh(range(len(idxs)), importances[idxs], align='center')\n",
        "  plt.yticks(range(len(idxs)), [X.columns[i] for i in idxs])\n",
        "  plt.xlabel('Feature Importance')\n",
        "  plt.show()\n",
        "  print(\"Model:\",selected_model,\"\\n\\n\")"
      ],
      "metadata": {
        "colab": {
          "base_uri": "https://localhost:8080/",
          "height": 1000
        },
        "id": "vy_rEnUTSLK7",
        "outputId": "012f2c61-eead-41bf-fe93-8316d4b24116"
      },
      "id": "vy_rEnUTSLK7",
      "execution_count": 176,
      "outputs": [
        {
          "output_type": "display_data",
          "data": {
            "text/plain": [
              "<Figure size 640x480 with 1 Axes>"
            ],
            "image/png": "[encoded data removed]"
          },
          "metadata": {}
        },
        {
          "output_type": "stream",
          "name": "stdout",
          "text": [
            "Model: LGBMClassifier(verbose=-1) \n",
            "\n",
            "\n"
          ]
        },
        {
          "output_type": "display_data",
          "data": {
            "text/plain": [
              "<Figure size 640x480 with 1 Axes>"
            ],
            "image/png": "[encoded data removed]"
          },
          "metadata": {}
        },
        {
          "output_type": "stream",
          "name": "stdout",
          "text": [
            "Model: RandomForestClassifier(max_depth=3, max_features=0.9070899202356064,\n",
            "                       n_estimators=245, random_state=80) \n",
            "\n",
            "\n"
          ]
        }
      ]
    }
  ],
  "metadata": {
    "colab": {
      "provenance": [],
      "include_colab_link": true
    },
    "kernelspec": {
      "display_name": "Python 3",
      "name": "python3"
    },
    "language_info": {
      "codemirror_mode": {
        "name": "ipython",
        "version": 3
      },
      "file_extension": ".py",
      "mimetype": "text/x-python",
      "name": "python",
      "nbconvert_exporter": "python",
      "pygments_lexer": "ipython3",
      "version": "3.9.13"
    },
    "accelerator": "TPU"
  },
  "nbformat": 4,
  "nbformat_minor": 5
}